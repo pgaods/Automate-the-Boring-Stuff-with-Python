{
 "cells": [
  {
   "cell_type": "markdown",
   "metadata": {},
   "source": [
    "In this lecture we study the control flow statements and conditional execution. When it comes to the word 'control', we first need a notion of 'true' and 'false'. In Python, this type of Boolean logic serves as a foundation for conditional execution. Logical equality and inequality is denoted by \"==\" and \"!=\"."
   ]
  },
  {
   "cell_type": "code",
   "execution_count": 1,
   "metadata": {},
   "outputs": [
    {
     "name": "stdout",
     "output_type": "stream",
     "text": [
      "False True\n"
     ]
    }
   ],
   "source": [
    "spam=False\n",
    "email=True\n",
    "print(spam, email)"
   ]
  },
  {
   "cell_type": "markdown",
   "metadata": {},
   "source": [
    "The 'and' and 'or' operators always take two Boolean values (or expressions), so they’re\n",
    "considered binary operators. The 'and' operator evaluates an expression to 'True' if both\n",
    "Boolean values are True; otherwise, it evaluates to 'False'. Below is a truth table, which serves as a foundation for Boolean logic in Python. "
   ]
  },
  {
   "cell_type": "code",
   "execution_count": 2,
   "metadata": {},
   "outputs": [
    {
     "name": "stdout",
     "output_type": "stream",
     "text": [
      "True\n",
      "True\n",
      "True\n",
      "False\n",
      "False\n",
      "False\n",
      "False\n",
      "True\n"
     ]
    }
   ],
   "source": [
    "print(True or True) # True\n",
    "print(True or False) # True\n",
    "print(False or True) # True\n",
    "print(False or False) # False\n",
    "print(True and False) # False\n",
    "print(False and True) # False\n",
    "print(not True) # False\n",
    "print(not False) # True"
   ]
  },
  {
   "cell_type": "markdown",
   "metadata": {},
   "source": [
    "There is one caveat about the Boolean logic comparison. Besides 'True' and 'False', there is also a 'None' logic. In Python there is a value called 'None', which represents the absence of a value. 'None' is the only value of the 'NoneType' data type (other programming languages might call this value null, nil, or undefined). \n",
    "\n",
    "In Python, the 'or' operator returns the value of its first operand, if that value is true in the Pythonic boolean sense, otherwise it returns the value of its second operand. So when the 'or' opeator meets 'None', things become interesting. "
   ]
  },
  {
   "cell_type": "code",
   "execution_count": 3,
   "metadata": {},
   "outputs": [
    {
     "name": "stdout",
     "output_type": "stream",
     "text": [
      "False\n",
      "None\n"
     ]
    }
   ],
   "source": [
    "print(None or False) # False\n",
    "print(False or None) # None"
   ]
  },
  {
   "cell_type": "markdown",
   "metadata": {},
   "source": [
    "We now go over the usual control statements: the if-else statements, the 'for' loop, the 'while' loop, the 'break' statement and the 'continue' statement. Indentation is crucial in Pythonic programming. When it comes to control statements, make sure each block of logic is indicated with an indentation of 4 spaces. Below are some examples:"
   ]
  },
  {
   "cell_type": "code",
   "execution_count": 4,
   "metadata": {},
   "outputs": [
    {
     "name": "stdout",
     "output_type": "stream",
     "text": [
      "Hi, Alice.\n",
      "Unlike you, Alice is not an undead, immortal vampire.\n",
      "You are neither Alice nor a little kid.\n"
     ]
    }
   ],
   "source": [
    "name='Alice'\n",
    "age=0\n",
    "if name == 'Alice':\n",
    "    print('Hi, Alice.')\n",
    "elif age < 12:\n",
    "    print('You are not Alice, kiddo.')\n",
    "elif age > 2000:\n",
    "    print('Unlike you, Alice is not an undead, immortal vampire.')\n",
    "elif age > 100:\n",
    "    print('You are not Alice, grannie.')\n",
    "    \n",
    "name='Peter'\n",
    "age=2532.43\n",
    "if name == 'Alice':\n",
    "    print('Hi, Alice.')\n",
    "elif age < 12:\n",
    "    print('You are not Alice, kiddo.')\n",
    "elif age > 2000:\n",
    "    print('Unlike you, Alice is not an undead, immortal vampire.')\n",
    "elif age > 100:\n",
    "    print('You are not Alice, grannie.')\n",
    "\n",
    "name='Emily'\n",
    "age=14\n",
    "if name == 'Alice':\n",
    "    print('Hi, Alice.')\n",
    "elif age < 12:\n",
    "    print('You are not Alice, kiddo.')\n",
    "else:\n",
    "    print('You are neither Alice nor a little kid.')"
   ]
  },
  {
   "cell_type": "code",
   "execution_count": 5,
   "metadata": {},
   "outputs": [
    {
     "name": "stdout",
     "output_type": "stream",
     "text": [
      "Hello, world.\n",
      "spam=1\n",
      "Hello, world.\n",
      "spam=2\n",
      "Hello, world.\n",
      "spam=3\n"
     ]
    }
   ],
   "source": [
    "spam = 0\n",
    "while spam < 3:\n",
    "    print('Hello, world.')\n",
    "    spam = spam + 1\n",
    "    print('spam='+str(spam))"
   ]
  },
  {
   "cell_type": "code",
   "execution_count": 6,
   "metadata": {},
   "outputs": [
    {
     "name": "stdout",
     "output_type": "stream",
     "text": [
      "My name is:\n",
      "Jimmy: 3 Times (0)\n",
      "Jimmy: 3 Times (1)\n",
      "Jimmy: 3 Times (2)\n"
     ]
    }
   ],
   "source": [
    "print('My name is:')\n",
    "for i in range(3):\n",
    "    print('Jimmy: 3 Times (' + str(i) + ')')"
   ]
  },
  {
   "cell_type": "markdown",
   "metadata": {},
   "source": [
    "The 'break' statement, like in C language, breaks out of the smallest enclosing 'for' or 'while' loop statements. Loop statements may have an 'else' clause; it is executed when the loop terminates through exhaustion of the list (with 'for') or when the condition becomes false (with 'while'), but not when the loop is terminated by a 'break' statement. Below are two examples:"
   ]
  },
  {
   "cell_type": "code",
   "execution_count": 7,
   "metadata": {},
   "outputs": [
    {
     "name": "stdout",
     "output_type": "stream",
     "text": [
      "Current variable value is:  9\n",
      "Current variable value is:  8\n",
      "Current variable value is:  7\n",
      "Current variable value is:  6\n",
      "Goodbye!\n"
     ]
    }
   ],
   "source": [
    "var=9\n",
    "while var > 0:              \n",
    "    print('Current variable value is: ', var)\n",
    "    var = var -1\n",
    "    if var == 5:\n",
    "        break\n",
    "print (\"Goodbye!\")"
   ]
  },
  {
   "cell_type": "code",
   "execution_count": 8,
   "metadata": {},
   "outputs": [
    {
     "name": "stdout",
     "output_type": "stream",
     "text": [
      "2 is a prime number\n",
      "3 is a prime number\n",
      "4 equals 2 * 2\n",
      "5 is a prime number\n",
      "6 equals 2 * 3\n",
      "7 is a prime number\n",
      "8 equals 2 * 4\n"
     ]
    }
   ],
   "source": [
    "for n in range(2, 9):\n",
    "    for x in range(2, n):\n",
    "        if n % x == 0:\n",
    "            print(n, 'equals', x, '*', n//x)\n",
    "            break\n",
    "    else: # loop fell through without finding a factor\n",
    "        print(n, 'is a prime number')"
   ]
  },
  {
   "cell_type": "markdown",
   "metadata": {},
   "source": [
    "The 'continue' statement, also borrowed from the C language, continues with the next iteration of the loop. "
   ]
  },
  {
   "cell_type": "code",
   "execution_count": 9,
   "metadata": {},
   "outputs": [
    {
     "name": "stdout",
     "output_type": "stream",
     "text": [
      "Current variable value:  6\n",
      "Current variable value:  4\n",
      "Current variable value:  3\n",
      "Current variable value:  2\n",
      "Goodbye!\n"
     ]
    }
   ],
   "source": [
    "var=7\n",
    "while var > 0:              \n",
    "    var = var -1\n",
    "    if var == 5:\n",
    "        continue\n",
    "    print ('Current variable value: ', var)\n",
    "    if var==2:\n",
    "        break\n",
    "print (\"Goodbye!\")"
   ]
  },
  {
   "cell_type": "code",
   "execution_count": 10,
   "metadata": {},
   "outputs": [
    {
     "name": "stdout",
     "output_type": "stream",
     "text": [
      "random integer draw:  4\n",
      "random integer draw:  1\n",
      "random integer draw:  2\n",
      "random integer draw:  10\n",
      "random integer draw:  10\n",
      "random integer draw:  2\n"
     ]
    }
   ],
   "source": [
    "a=1\n",
    "b=10\n",
    "import random # importing a module\n",
    "for i in range(6):\n",
    "    print(\"random integer draw: \", random.randint(a, b)) # the random.randint() function finds a random integer value between the two integers specified"
   ]
  },
  {
   "cell_type": "markdown",
   "metadata": {},
   "source": [
    "There is one caveat about the range() function used in a loop. When we use this type of program logic, the most important thing is to pay attention to the starting and ending value. The default setting is that the first number from range(n) for any natural number n stars from 0."
   ]
  },
  {
   "cell_type": "code",
   "execution_count": 11,
   "metadata": {},
   "outputs": [
    {
     "name": "stdout",
     "output_type": "stream",
     "text": [
      "0\n",
      "1\n",
      "2\n",
      "3\n"
     ]
    }
   ],
   "source": [
    "for i in range(4): # the value starts on the value 0 and ends on the value 3\n",
    "    print(i)"
   ]
  },
  {
   "cell_type": "code",
   "execution_count": null,
   "metadata": {
    "collapsed": true
   },
   "outputs": [],
   "source": []
  }
 ],
 "metadata": {
  "kernelspec": {
   "display_name": "Python 3",
   "language": "python",
   "name": "python3"
  },
  "language_info": {
   "codemirror_mode": {
    "name": "ipython",
    "version": 3
   },
   "file_extension": ".py",
   "mimetype": "text/x-python",
   "name": "python",
   "nbconvert_exporter": "python",
   "pygments_lexer": "ipython3",
   "version": "3.6.3"
  }
 },
 "nbformat": 4,
 "nbformat_minor": 2
}
