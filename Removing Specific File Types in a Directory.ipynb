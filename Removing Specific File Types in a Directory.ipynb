{
 "cells": [
  {
   "cell_type": "markdown",
   "metadata": {},
   "source": [
    "This program is designed to remove a specific file type in a given directory. For example, the following program removes all excel files in a given directory:"
   ]
  },
  {
   "cell_type": "code",
   "execution_count": 1,
   "metadata": {
    "collapsed": true
   },
   "outputs": [],
   "source": [
    "import os"
   ]
  },
  {
   "cell_type": "code",
   "execution_count": 3,
   "metadata": {},
   "outputs": [],
   "source": [
    "searchpath='W:\\\\BENCHMAR\\\\Quality_Accountability\\\\2018\\\\Automation\\\\Annual\\\\Input Data'\n",
    "for root, dirs, files in os.walk(searchpath):\n",
    "    for fname in files:\n",
    "        if fname.endswith('.sas7bdat') and root==searchpath:\n",
    "            print('File that needs to be removed: ', os.path.join(root, fname))\n",
    "            os.remove((os.path.join(root, fname)))"
   ]
  },
  {
   "cell_type": "code",
   "execution_count": 4,
   "metadata": {
    "collapsed": true
   },
   "outputs": [],
   "source": [
    "searchpath='W:\\\\BENCHMAR\\\\Quality_Accountability\\\\2018\\\\Automation_Cohort2\\\\Annual\\\\Input Data'\n",
    "for root, dirs, files in os.walk(searchpath):\n",
    "    for fname in files:\n",
    "        if fname.endswith('.sas7bdat') and root==searchpath:\n",
    "            print('File that needs to be removed: ', os.path.join(root, fname))\n",
    "            os.remove((os.path.join(root, fname)))"
   ]
  },
  {
   "cell_type": "code",
   "execution_count": 5,
   "metadata": {},
   "outputs": [],
   "source": [
    "searchpath='W:\\\\BENCHMAR\\\\Quality_Accountability\\\\2018\\\\Automation_Community\\\\Annual\\\\Input Data'\n",
    "for root, dirs, files in os.walk(searchpath):\n",
    "    for fname in files:\n",
    "        if fname.endswith('.sas7bdat') and root==searchpath:\n",
    "            print('File that needs to be removed: ', os.path.join(root, fname))\n",
    "            os.remove((os.path.join(root, fname)))"
   ]
  },
  {
   "cell_type": "code",
   "execution_count": null,
   "metadata": {
    "collapsed": true
   },
   "outputs": [],
   "source": []
  }
 ],
 "metadata": {
  "kernelspec": {
   "display_name": "Python 3",
   "language": "python",
   "name": "python3"
  },
  "language_info": {
   "codemirror_mode": {
    "name": "ipython",
    "version": 3
   },
   "file_extension": ".py",
   "mimetype": "text/x-python",
   "name": "python",
   "nbconvert_exporter": "python",
   "pygments_lexer": "ipython3",
   "version": "3.6.3"
  }
 },
 "nbformat": 4,
 "nbformat_minor": 2
}
