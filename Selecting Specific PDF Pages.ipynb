{
 "cells": [
  {
   "cell_type": "markdown",
   "metadata": {},
   "source": [
    "This notebook picks up an existing PDF file and then select a few specific pages and then output the selected PDF. \n",
    "\n",
    "In the example below, the file tax2019 was picked as the source file. The file is large so we want to simply subset the file based on a few pages (stored in a list below). And then we output the file and rename the file 'tax2019_subset'."
   ]
  },
  {
   "cell_type": "code",
   "execution_count": 2,
   "metadata": {},
   "outputs": [],
   "source": [
    "import PyPDF2\n",
    "import os\n",
    "\n",
    "from PyPDF2 import PdfFileReader, PdfFileWriter"
   ]
  },
  {
   "cell_type": "code",
   "execution_count": 3,
   "metadata": {},
   "outputs": [],
   "source": [
    "os.chdir(\"C:\\\\Users\\\\pgao\\\\Documents\\\\PGZ Documents\\\\Investment Workshop\\\\Working Portfolio\\\\1446 W Wrightwood\\\\refinance\")"
   ]
  },
  {
   "cell_type": "code",
   "execution_count": 10,
   "metadata": {},
   "outputs": [],
   "source": [
    "pdf_file_path = 'tax2019.pdf'\n",
    "file_base_name = pdf_file_path.replace('.pdf', '')\n",
    " \n",
    "pdf = PdfFileReader(pdf_file_path)\n",
    " \n",
    "#pages = [0,1,2,3,4,5, 14,15,16] \n",
    "pages = [2,3,4,5,12,13,14,15,16] # page 1, 3, 5\n",
    "\n",
    "pdfWriter = PdfFileWriter()\n",
    " \n",
    "for page_num in pages:\n",
    "    pdfWriter.addPage(pdf.getPage(page_num))\n",
    "\n",
    "with open('{0}_subset.pdf'.format(file_base_name), 'wb') as f:\n",
    "    pdfWriter.write(f)\n",
    "    f.close()"
   ]
  },
  {
   "cell_type": "code",
   "execution_count": null,
   "metadata": {},
   "outputs": [],
   "source": []
  }
 ],
 "metadata": {
  "kernelspec": {
   "display_name": "Python 3",
   "language": "python",
   "name": "python3"
  },
  "language_info": {
   "codemirror_mode": {
    "name": "ipython",
    "version": 3
   },
   "file_extension": ".py",
   "mimetype": "text/x-python",
   "name": "python",
   "nbconvert_exporter": "python",
   "pygments_lexer": "ipython3",
   "version": "3.7.6"
  }
 },
 "nbformat": 4,
 "nbformat_minor": 4
}