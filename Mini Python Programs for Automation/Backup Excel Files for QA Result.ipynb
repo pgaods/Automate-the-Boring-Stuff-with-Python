{
 "cells": [
  {
   "cell_type": "markdown",
   "metadata": {},
   "source": [
    "This mini program is designed to move SAS files from one location to another automatically."
   ]
  },
  {
   "cell_type": "code",
   "execution_count": 69,
   "metadata": {},
   "outputs": [],
   "source": [
    "import os\n",
    "import shutil"
   ]
  },
  {
   "cell_type": "code",
   "execution_count": 70,
   "metadata": {},
   "outputs": [],
   "source": [
    "year='2021'"
   ]
  },
  {
   "cell_type": "code",
   "execution_count": 71,
   "metadata": {},
   "outputs": [],
   "source": [
    "def dm_Current(category):\n",
    "    source = 'G:\\\\' + year + '\\\\' + category+ '\\\\Input Data\\\\'\n",
    "    dest = 'G:\\\\' + year + '\\\\' + category + '\\\\Input Data\\\\Backup\\\\'\n",
    "    \n",
    "    '''Check if the files have been moved. If yes, stop the operation!'''\n",
    "    os.chdir(source)\n",
    "    if os.path.exists(\"generic filename.xlsx\") == True:\n",
    "        print('Backup starts...\\n')\n",
    "    else:\n",
    "        print('Files have been backed up, no more action needed. If still needed, manually do it!\\n')\n",
    "        return\n",
    "    \n",
    "    '''Deleting all files in the Backup folder'''\n",
    "    os.chdir(dest)\n",
    "    files = os.listdir(dest)\n",
    "    for f in files:\n",
    "        if f.endswith('xlsx'):\n",
    "            #print(f)\n",
    "            os.remove(f)\n",
    "    for f in files:\n",
    "        if f.endswith('xlsx.bak'):\n",
    "            #print(f)\n",
    "            os.remove(f)\n",
    "    print('All files in the Backup folder are cleaned')\n",
    "\n",
    "    '''Deleting all bak files in the prod folder'''\n",
    "    os.chdir(source)\n",
    "    files = os.listdir(dest)\n",
    "    for f in files:\n",
    "        if f.endswith('xlsx.bak'):\n",
    "            #print(f)\n",
    "            os.remove(f)\n",
    "    print('All bak files in the production folder are cleaned')\n",
    "    \n",
    "    '''moving all excel files to the Backup folder'''\n",
    "    os.chdir(source)\n",
    "    files = os.listdir(source)\n",
    "    for j in files:\n",
    "        if j.endswith('xlsx'):\n",
    "            #print(j)\n",
    "            shutil.move(source+j, dest)\n",
    "    print('All files in the production folder are moved to the Backup folder\\n')"
   ]
  }
 ],
 "metadata": {
  "kernelspec": {
   "display_name": "Python 3",
   "language": "python",
   "name": "python3"
  },
  "language_info": {
   "codemirror_mode": {
    "name": "ipython",
    "version": 3
   },
   "file_extension": ".py",
   "mimetype": "text/x-python",
   "name": "python",
   "nbconvert_exporter": "python",
   "pygments_lexer": "ipython3",
   "version": "3.7.3"
  }
 },
 "nbformat": 4,
 "nbformat_minor": 2
}
