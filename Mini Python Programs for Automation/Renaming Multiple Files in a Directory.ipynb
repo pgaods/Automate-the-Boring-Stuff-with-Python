{
 "cells": [
  {
   "cell_type": "markdown",
   "metadata": {},
   "source": [
    "This mini progragram intends to rename a sequence of files in a given directory in a consistent manner. \n",
    "\n",
    "The following program picks out all the SAS scripts and then add a text-string prefix to each program in the front in a given directory:"
   ]
  },
  {
   "cell_type": "code",
   "execution_count": 6,
   "metadata": {
    "collapsed": true
   },
   "outputs": [],
   "source": [
    "import os"
   ]
  },
  {
   "cell_type": "code",
   "execution_count": 7,
   "metadata": {},
   "outputs": [
    {
     "name": "stdout",
     "output_type": "stream",
     "text": [
      "file renamed:  CDB snapshot_2018.sas\n",
      "file renamed:  equity_bootstrap.sas\n",
      "file renamed:  HCAHPS snapshot_2018.sas\n",
      "file renamed:  lab_2018.sas\n",
      "file renamed:  perm_dataset_session_checkup.sas\n",
      "file renamed:  qaCalculator_CM_2018.sas\n",
      "file renamed:  qaCalculator_Cutoffs_2018.sas\n",
      "file renamed:  qaCalculator_domain ranking_2018.sas\n",
      "file renamed:  qaCalculator_Efficiency_2018.sas\n",
      "file renamed:  qaCalculator_Equity_2018.sas\n",
      "file renamed:  qaCalculator_ExcessDays1_2018.sas\n",
      "file renamed:  qaCalculator_ExcessDays2_2018.sas\n",
      "file renamed:  qaCalculator_HCAHPS_2018.sas\n",
      "file renamed:  qaCalculator_Hospital by Non-Eq Metric_Complete List_2018.sas\n",
      "file renamed:  qaCalculator_Metric Values_by quarter_2018.sas\n",
      "file renamed:  qaCalculator_Mortality_2018.sas\n",
      "file renamed:  qaCalculator_NHSN_2018.sas\n",
      "file renamed:  qaCalculator_NHSN_2018_old.sas\n",
      "file renamed:  qaCalculator_PSI_2018.sas\n",
      "file renamed:  qaCalculator_Readmission_2018.sas\n",
      "file renamed:  qaCalculator_Scoring_2018.sas\n",
      "file renamed:  qaCalculator_Supplemental Data_2018.sas\n",
      "file renamed:  qaCalculator_THK_2018.sas\n",
      "file renamed:  qaCalculator_THK_FORMAT_2018.sas\n",
      "file renamed:  qaCalculator_THK_FORMAT_2018_old.sas\n",
      "file renamed:  qaCalculator_Transformation_2018.sas\n",
      "file renamed:  qaCalculator_VTE6_2018.sas\n",
      "file renamed:  CDB snapshot_2018.sas\n",
      "file renamed:  equity_bootstrap.sas\n",
      "file renamed:  HCAHPS snapshot_2018.sas\n",
      "file renamed:  lab_2018.sas\n",
      "file renamed:  perm_dataset_session_checkup.sas\n",
      "file renamed:  qaCalculator_CM_2018.sas\n",
      "file renamed:  qaCalculator_Cutoffs_2018.sas\n",
      "file renamed:  qaCalculator_domain ranking_2018.sas\n",
      "file renamed:  qaCalculator_Efficiency_2018.sas\n",
      "file renamed:  qaCalculator_Equity_2018.sas\n",
      "file renamed:  qaCalculator_ExcessDays1_2018.sas\n",
      "file renamed:  qaCalculator_ExcessDays2_2018.sas\n",
      "file renamed:  qaCalculator_HCAHPS_2018.sas\n",
      "file renamed:  qaCalculator_Hospital by Non-Eq Metric_Complete List_2018.sas\n",
      "file renamed:  qaCalculator_Metric Values_by quarter_2018.sas\n",
      "file renamed:  qaCalculator_Mortality_2018.sas\n",
      "file renamed:  qaCalculator_NHSN_2018.sas\n",
      "file renamed:  qaCalculator_NHSN_2018_old.sas\n",
      "file renamed:  qaCalculator_PSI_2018.sas\n",
      "file renamed:  qaCalculator_Readmission_2018.sas\n",
      "file renamed:  qaCalculator_Scoring_2018.sas\n",
      "file renamed:  qaCalculator_Supplemental Data_2018.sas\n",
      "file renamed:  qaCalculator_THK_2018.sas\n",
      "file renamed:  qaCalculator_THK_FORMAT_2018.sas\n",
      "file renamed:  qaCalculator_THK_FORMAT_2018_old.sas\n",
      "file renamed:  qaCalculator_Transformation_2018.sas\n",
      "file renamed:  qaCalculator_VTE6_2018.sas\n",
      "file renamed:  CDB snapshot_2018.sas\n",
      "file renamed:  Check snapshot for 4 hospitals_20160829.sas\n",
      "file renamed:  HCAHPS snapshot_2018.sas\n",
      "file renamed:  lab_2018.sas\n",
      "file renamed:  non_QA hospital output for calculator_2018.sas\n",
      "file renamed:  non_qaCalculator_Transformation_2016 QA hosps only.sas\n",
      "file renamed:  perm_dataset_session_checkup.sas\n",
      "file renamed:  qaCalculator_CM_2018.sas\n",
      "file renamed:  qaCalculator_cm_lv_missing_2018.sas\n",
      "file renamed:  qaCalculator_Cutoffs_2018.sas\n",
      "file renamed:  qaCalculator_domain ranking_2018_QA hospital only.sas\n",
      "file renamed:  qaCalculator_Efficiency_2018.sas\n",
      "file renamed:  qaCalculator_Equity_2018.sas\n",
      "file renamed:  qaCalculator_ExcessDays1_2018.sas\n",
      "file renamed:  qaCalculator_ExcessDays2_2018.sas\n",
      "file renamed:  qaCalculator_HCAHPS_2018.sas\n",
      "file renamed:  qaCalculator_Hospital by Non-Eq Metric_Complete List_2018.sas\n",
      "file renamed:  qaCalculator_Metric Values_by quarter_2018_QA hospital only.sas\n",
      "file renamed:  qaCalculator_Mortality_2018.sas\n",
      "file renamed:  qaCalculator_NHSN_2018.sas\n",
      "file renamed:  qaCalculator_NHSN_2018_old.sas\n",
      "file renamed:  qaCalculator_PSI_2018.sas\n",
      "file renamed:  qaCalculator_Readmission_2018.sas\n",
      "file renamed:  qaCalculator_Scoring_2018_QA hospitals only.sas\n",
      "file renamed:  qaCalculator_Supplemental Data_2018.sas\n",
      "file renamed:  qaCalculator_THK_2018.sas\n",
      "file renamed:  qaCalculator_THK_FORMAT_2018.sas\n",
      "file renamed:  qaCalculator_THK_FORMAT_2018_old.sas\n",
      "file renamed:  qaCalculator_Transformation_2018 QA hosps only.sas\n"
     ]
    }
   ],
   "source": [
    "os.chdir(\"W:\\\\BENCHMAR\\\\Quality_Accountability\\\\2018\\Automation\\\\Annual\")\n",
    "for filename in os.listdir(\".\"):\n",
    "    if filename.endswith(\".sas\"):\n",
    "        os.rename(filename, 'AMC_'+filename)\n",
    "        print('file renamed: ', filename)\n",
    "        \n",
    "os.chdir(\"W:\\\\BENCHMAR\\\\Quality_Accountability\\\\2018\\Automation_Cohort2\\\\Annual\")\n",
    "for filename in os.listdir(\".\"):\n",
    "    if filename.endswith(\".sas\"):\n",
    "        os.rename(filename, 'Cohort2_'+filename)\n",
    "        print('file renamed: ', filename)\n",
    "\n",
    "os.chdir(\"W:\\\\BENCHMAR\\\\Quality_Accountability\\\\2018\\Automation_Community\\\\Annual\")\n",
    "for filename in os.listdir(\".\"):\n",
    "    if filename.endswith(\".sas\"):\n",
    "        os.rename(filename, 'Comm_'+filename)\n",
    "        print('file renamed: ', filename)"
   ]
  },
  {
   "cell_type": "code",
   "execution_count": null,
   "metadata": {
    "collapsed": true
   },
   "outputs": [],
   "source": []
  }
 ],
 "metadata": {
  "kernelspec": {
   "display_name": "Python 3",
   "language": "python",
   "name": "python3"
  },
  "language_info": {
   "codemirror_mode": {
    "name": "ipython",
    "version": 3
   },
   "file_extension": ".py",
   "mimetype": "text/x-python",
   "name": "python",
   "nbconvert_exporter": "python",
   "pygments_lexer": "ipython3",
   "version": "3.6.3"
  }
 },
 "nbformat": 4,
 "nbformat_minor": 2
}
