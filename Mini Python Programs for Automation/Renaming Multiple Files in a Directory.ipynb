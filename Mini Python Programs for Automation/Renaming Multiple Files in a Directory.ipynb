{
 "cells": [
  {
   "cell_type": "markdown",
   "metadata": {},
   "source": [
    "This mini progragram intends to rename a sequence of files in a given directory in a consistent manner. \n",
    "\n",
    "The following program picks out all the SAS scripts and then add a text-string prefix to each program in the front in a given directory:"
   ]
  },
  {
   "cell_type": "code",
   "execution_count": 1,
   "metadata": {},
   "outputs": [],
   "source": [
    "import os"
   ]
  },
  {
   "cell_type": "code",
   "execution_count": 2,
   "metadata": {},
   "outputs": [
    {
     "name": "stdout",
     "output_type": "stream",
     "text": [
      "file renamed:  autofilter.sas\n",
      "file renamed:  huntley code for norank calculator.sas\n",
      "file renamed:  star heart attach 20200910.sas\n"
     ]
    }
   ],
   "source": [
    "os.chdir(\"H:\\\\\")\n",
    "for filename in os.listdir(\".\"):\n",
    "    if filename.endswith(\".sas\"):\n",
    "        os.rename(filename, 'AMC_'+filename)\n",
    "        print('file renamed: ', filename)"
   ]
  },
  {
   "cell_type": "code",
   "execution_count": null,
   "metadata": {
    "collapsed": true
   },
   "outputs": [],
   "source": []
  }
 ],
 "metadata": {
  "kernelspec": {
   "display_name": "Python 3",
   "language": "python",
   "name": "python3"
  },
  "language_info": {
   "codemirror_mode": {
    "name": "ipython",
    "version": 3
   },
   "file_extension": ".py",
   "mimetype": "text/x-python",
   "name": "python",
   "nbconvert_exporter": "python",
   "pygments_lexer": "ipython3",
   "version": "3.7.3"
  }
 },
 "nbformat": 4,
 "nbformat_minor": 2
}
