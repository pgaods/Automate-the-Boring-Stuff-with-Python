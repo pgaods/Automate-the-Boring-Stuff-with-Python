{
 "cells": [
  {
   "cell_type": "markdown",
   "metadata": {},
   "source": [
    "We create an independent mini-program now to get the zip file information for every single file and subfolder in the zip file. Once you specify the path of the zip file and the name of the zip file, we can get their file size information for each file and subfolder in that particular zip file.\n",
    "\n",
    "The program only needs to params from the user: 'filedir' and 'fname'. The 'filedir' tells Python where the zip file is, and the 'fname' tells what the zip file is (e.g. zippedupfile.zip)."
   ]
  },
  {
   "cell_type": "code",
   "execution_count": 2,
   "metadata": {},
   "outputs": [
    {
     "name": "stdout",
     "output_type": "stream",
     "text": [
      "These are the individual files and folders within the current zip file: \n",
      "['spam.txt', 'cats/', 'cats/catnames.txt', 'cats/zophie.jpg']\n",
      "\n",
      "-----------------------------------------------------------------------\n",
      "\n",
      "spam.txt\n",
      "Original Size of 13908 KB\n",
      "After compression, it has 3828 KB\n",
      "Compressed file is 3.63x smaller!\n",
      "\n",
      "cats/\n",
      "Original Size of 0 KB\n",
      "After compression, it has 0 KB\n",
      "The original file/folder is 0KB already, nothing to be compressed\n",
      "\n",
      "cats/catnames.txt\n",
      "Original Size of 221 KB\n",
      "After compression, it has 162 KB\n",
      "Compressed file is 1.36x smaller!\n",
      "\n",
      "cats/zophie.jpg\n",
      "Original Size of 380218 KB\n",
      "After compression, it has 378259 KB\n",
      "Compressed file is 1.01x smaller!\n",
      "\n"
     ]
    }
   ],
   "source": [
    "import zipfile,os\n",
    "filedir='C:\\\\Users\\\\GAO\\\\Anaconda\\\\Scripts\\\\Gao_Jupyter_Notebook_Python_Codes\\\\Datasets and Files' # zip file location\n",
    "fname='zipexample.zip' # zip file name\n",
    "\n",
    "os.chdir(filedir) # move to the folder with the zip file 'example.zip'\n",
    "exampleZip = zipfile.ZipFile(fname)\n",
    "print('These are the individual files and folders within the current zip file: \\n' + str(exampleZip.namelist()))\n",
    "print('\\n-----------------------------------------------------------------------\\n')\n",
    "\n",
    "flist=exampleZip.namelist()\n",
    "for i in flist:\n",
    "    fileinzip = exampleZip.getinfo(i) # getting information within the zip file\n",
    "    print(fileinzip.filename)\n",
    "    print('Original Size of ' + str(fileinzip.file_size) + ' KB')\n",
    "    print('After compression, it has ' + str(fileinzip.compress_size) + ' KB')\n",
    "    try:\n",
    "        print('Compressed file is %sx smaller!' % (round(fileinzip.file_size / fileinzip.compress_size, 2)))\n",
    "    except ZeroDivisionError:\n",
    "        print('The original file/folder is 0KB already, nothing to be compressed')\n",
    "    print('')\n",
    "    exampleZip.close()\n"
   ]
  },
  {
   "cell_type": "code",
   "execution_count": null,
   "metadata": {
    "collapsed": true
   },
   "outputs": [],
   "source": []
  }
 ],
 "metadata": {
  "kernelspec": {
   "display_name": "Python 3",
   "language": "python",
   "name": "python3"
  },
  "language_info": {
   "codemirror_mode": {
    "name": "ipython",
    "version": 3
   },
   "file_extension": ".py",
   "mimetype": "text/x-python",
   "name": "python",
   "nbconvert_exporter": "python",
   "pygments_lexer": "ipython3",
   "version": "3.7.3"
  }
 },
 "nbformat": 4,
 "nbformat_minor": 2
}
