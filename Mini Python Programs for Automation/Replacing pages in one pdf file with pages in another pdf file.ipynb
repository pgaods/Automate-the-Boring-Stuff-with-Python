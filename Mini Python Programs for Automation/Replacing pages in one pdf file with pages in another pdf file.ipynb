{
 "cells": [
  {
   "cell_type": "code",
   "execution_count": 4,
   "metadata": {},
   "outputs": [],
   "source": [
    "import PyPDF2\n",
    "import os\n",
    "os.chdir('C:\\\\Users\\\\gao\\\\GAO_Jupyter_Notebook\\\\Automate the Boring Stuff with Python\\\\Datasets and Files')"
   ]
  },
  {
   "cell_type": "code",
   "execution_count": 15,
   "metadata": {},
   "outputs": [],
   "source": [
    "pdf1File = open('file A.pdf', 'rb')\n",
    "pdf2File = open('file B.pdf', 'rb')\n",
    "pdf1Reader = PyPDF2.PdfFileReader(pdf1File)\n",
    "pdf2Reader = PyPDF2.PdfFileReader(pdf2File)\n",
    "pdfWriter = PyPDF2.PdfFileWriter() # creating a blank PDF document here"
   ]
  },
  {
   "cell_type": "code",
   "execution_count": 16,
   "metadata": {},
   "outputs": [],
   "source": [
    "for pageNum in [0,1,2,3,4,5,6,7,8,9,10,11,12,13,14,15,16]: # copy all the pages from the PDF and add them to the 'PdfFileWriter' object\n",
    "    pageObj = pdf2Reader.getPage(pageNum)\n",
    "    pdfWriter.addPage(pageObj)\n",
    "pageObj = pdf1Reader.getPage(3)\n",
    "pageObj.rotateClockwise(-90)\n",
    "pdfWriter.addPage(pageObj)\n",
    "for pageNum in [18,19,20,21,22,23,24,25,26,27,28,29,30,31,32]: # copy all the pages from the PDF and add them to the 'PdfFileWriter' object\n",
    "    pageObj = pdf2Reader.getPage(pageNum)\n",
    "    pdfWriter.addPage(pageObj)\n",
    "    \n",
    "pdfOutputFile = open('wtf.pdf', 'wb')\n",
    "pdfWriter.write(pdfOutputFile)\n",
    "pdfOutputFile.close()\n",
    "pdf1File.close()\n",
    "pdf2File.close()"
   ]
  },
  {
   "cell_type": "code",
   "execution_count": null,
   "metadata": {
    "collapsed": true
   },
   "outputs": [],
   "source": []
  }
 ],
 "metadata": {
  "kernelspec": {
   "display_name": "Python 3",
   "language": "python",
   "name": "python3"
  },
  "language_info": {
   "codemirror_mode": {
    "name": "ipython",
    "version": 3
   },
   "file_extension": ".py",
   "mimetype": "text/x-python",
   "name": "python",
   "nbconvert_exporter": "python",
   "pygments_lexer": "ipython3",
   "version": "3.7.3"
  }
 },
 "nbformat": 4,
 "nbformat_minor": 2
}
