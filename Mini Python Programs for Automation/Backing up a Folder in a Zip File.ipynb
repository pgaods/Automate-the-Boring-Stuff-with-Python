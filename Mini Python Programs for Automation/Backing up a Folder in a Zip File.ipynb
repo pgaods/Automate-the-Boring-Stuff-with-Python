{
 "cells": [
  {
   "cell_type": "markdown",
   "metadata": {},
   "source": [
    "This mini program in Python will help data scientists back up data and folders in a zip file.\n",
    "\n",
    "Suppose you’re working on a project whose files you keep in a folder. You’re worried about losing your work, so you’d like to create zip file snapshots of the entire folder. You’d like to keep different versions, so you want the zip file’s filename to increment each time it is made; for example, AlsPythonBook_1.zip, AlsPythonBook_2.zip, AlsPythonBook_3.zip, and so on. You could do this by hand, but it is rather annoying, and you might accidentally misnumber the zip files’ names. It would be much simpler to run a program that does this boring task for you.\n",
    "\n",
    "The idea of the mini program is as follows: we first grab all the files that need to be zipped. Then we check to see if a folder exists which can be used to place the zip file. During the process, we also implement version control so that you can have many copies as you like. There are many ways to do version control. One simple way is to use the timestamp as a suffix for the filename. Each time we back up a set of files, the final zip file will contain the time_stamp information. "
   ]
  },
  {
   "cell_type": "code",
   "execution_count": 10,
   "metadata": {},
   "outputs": [],
   "source": [
    "import os\n",
    "import zipfile\n",
    "import shutil\n",
    "import datetime \n",
    "import time"
   ]
  },
  {
   "cell_type": "code",
   "execution_count": 11,
   "metadata": {},
   "outputs": [],
   "source": [
    "fsource='C:\\\\Users\\\\gao\\\\Gao_Jupyter_Notebook\\\\Datasets\\\\test folder' # original location for files to be zipped\n",
    "fzip='backup_example' # zip file name\n",
    "fdest='C:\\\\Users\\\\gao\\\\Gao_Jupyter_Notebook\\\\Datasets\\\\backup test folder' # destination folder where you want to put your zip file at \n",
    "sleep_time=15 # sleep for 15 seconds"
   ]
  },
  {
   "cell_type": "code",
   "execution_count": 12,
   "metadata": {},
   "outputs": [
    {
     "name": "stdout",
     "output_type": "stream",
     "text": [
      "Program Start Time: 2021-09-03 08:53:59 \n",
      "\n",
      "The path for the source files exists at the following locations:\n",
      " C:\\Users\\gao\\Gao_Jupyter_Notebook\\Datasets\\test folder \n",
      " ---You may proceed \n",
      "\n",
      "The path for the destination zip file exists at the following locations:\n",
      " C:\\Users\\gao\\Gao_Jupyter_Notebook\\Datasets\\backup test folder \n",
      " ---You may proceed \n",
      "\n",
      "\n",
      "-----------------------------------------------------------------------\n",
      "\n",
      "The zip file is being created now for your backup, please wait... \n",
      "\n"
     ]
    },
    {
     "ename": "AttributeError",
     "evalue": "module 'datetime' has no attribute 'sleep'",
     "output_type": "error",
     "traceback": [
      "\u001b[1;31m---------------------------------------------------------------------------\u001b[0m",
      "\u001b[1;31mAttributeError\u001b[0m                            Traceback (most recent call last)",
      "\u001b[1;32m<ipython-input-12-1ac2368e4f57>\u001b[0m in \u001b[0;36m<module>\u001b[1;34m\u001b[0m\n\u001b[0;32m     22\u001b[0m \u001b[0mprint\u001b[0m\u001b[1;33m(\u001b[0m\u001b[1;34m'The zip file is being created now for your backup, please wait... \\n'\u001b[0m\u001b[1;33m)\u001b[0m\u001b[1;33m\u001b[0m\u001b[1;33m\u001b[0m\u001b[0m\n\u001b[0;32m     23\u001b[0m \u001b[0mshutil\u001b[0m\u001b[1;33m.\u001b[0m\u001b[0mmake_archive\u001b[0m\u001b[1;33m(\u001b[0m\u001b[0mfname\u001b[0m\u001b[1;33m,\u001b[0m \u001b[1;34m'zip'\u001b[0m\u001b[1;33m,\u001b[0m \u001b[0mfsource\u001b[0m\u001b[1;33m)\u001b[0m \u001b[1;31m# this function can create either zip or tar file\u001b[0m\u001b[1;33m\u001b[0m\u001b[1;33m\u001b[0m\u001b[0m\n\u001b[1;32m---> 24\u001b[1;33m \u001b[0mdatetime\u001b[0m\u001b[1;33m.\u001b[0m\u001b[0msleep\u001b[0m\u001b[1;33m(\u001b[0m\u001b[0msleep_time\u001b[0m\u001b[1;33m)\u001b[0m \u001b[1;31m# sleep for 5 seconds so that the zipping job is finished\u001b[0m\u001b[1;33m\u001b[0m\u001b[1;33m\u001b[0m\u001b[0m\n\u001b[0m\u001b[0;32m     25\u001b[0m \u001b[0mprint\u001b[0m\u001b[1;33m(\u001b[0m\u001b[1;34m'\\n-----------------------------------------------------------------------\\n'\u001b[0m\u001b[1;33m)\u001b[0m\u001b[1;33m\u001b[0m\u001b[1;33m\u001b[0m\u001b[0m\n\u001b[0;32m     26\u001b[0m \u001b[0mprint\u001b[0m\u001b[1;33m(\u001b[0m\u001b[1;34m'The zip file was successfully created at the destination folder:\\n'\u001b[0m\u001b[1;33m,\u001b[0m \u001b[0mfdest\u001b[0m\u001b[1;33m)\u001b[0m\u001b[1;33m\u001b[0m\u001b[1;33m\u001b[0m\u001b[0m\n",
      "\u001b[1;31mAttributeError\u001b[0m: module 'datetime' has no attribute 'sleep'"
     ]
    }
   ],
   "source": [
    "fzip='backup_example' # zip file name\n",
    "timestamp_format=\"%Y%m%d_%H%M%S\"\n",
    "now=datetime.datetime.now()\n",
    "timestamp = now.strftime(timestamp_format)\n",
    "print('Program Start Time: {:%Y-%m-%d %H:%M:%S}'.format(datetime.datetime.now()), '\\n')\n",
    "fname=fzip+'_'+timestamp\n",
    "\n",
    "# Check if the folders for file sources and destinations exist\n",
    "if os.path.isdir(fsource)==True:\n",
    "    print('The path for the source files exists at the following locations:\\n', fsource, '\\n', '---You may proceed', '\\n')\n",
    "elif os.path.isdir(fsource)==False:\n",
    "    print('The path for the source files does not even exist, go back and double check!\\n')\n",
    "if os.path.isdir(fdest)==True:\n",
    "    print('The path for the destination zip file exists at the following locations:\\n', fdest, '\\n', '---You may proceed', '\\n')\n",
    "elif os.path.isdir(fdest)==False:\n",
    "    os.mkdir(fdest) # make a directory if the destination does not exist\n",
    "    print('The original destination does not exist, so we made a directory!', '\\n')\n",
    "    \n",
    "# Zip up the files \n",
    "os.chdir(fdest)\n",
    "print('\\n-----------------------------------------------------------------------\\n')\n",
    "print('The zip file is being created now for your backup, please wait... \\n')\n",
    "shutil.make_archive(fname, 'zip', fsource) # this function can create either zip or tar file\n",
    "time.sleep(sleep_time) # sleep for 5 seconds so that the zipping job is finished\n",
    "print('\\n-----------------------------------------------------------------------\\n')\n",
    "print('The zip file was successfully created at the destination folder:\\n', fdest)\n",
    "\n",
    "# Summary information for zip file\n",
    "zf=zipfile.ZipFile(fname+str('.zip'))\n",
    "flist = zf.namelist()\n",
    "print('\\n-----------------------------------------------------------------------\\n')\n",
    "print('\\nThese are the individual files and folders within the current zip file: \\n')\n",
    "for i in flist:\n",
    "    fileinzip = zf.getinfo(i) # getting information within the zip file\n",
    "    print(fileinzip.filename)\n",
    "    print('Original Size of ' + str(fileinzip.file_size) + ' KB')\n",
    "    print('After compression, it has ' + str(fileinzip.compress_size) + ' KB')\n",
    "    try:\n",
    "        print('Compressed file is %sx smaller!' % (round(fileinzip.file_size / fileinzip.compress_size, 2)))\n",
    "    except ZeroDivisionError:\n",
    "        print('The original file/folder is 0KB already, nothing to be compressed')\n",
    "    print('')\n",
    "    zf.close()\n",
    "print('\\nBack-up Complete!')"
   ]
  },
  {
   "cell_type": "code",
   "execution_count": null,
   "metadata": {
    "collapsed": true
   },
   "outputs": [],
   "source": []
  }
 ],
 "metadata": {
  "kernelspec": {
   "display_name": "Python 3",
   "language": "python",
   "name": "python3"
  },
  "language_info": {
   "codemirror_mode": {
    "name": "ipython",
    "version": 3
   },
   "file_extension": ".py",
   "mimetype": "text/x-python",
   "name": "python",
   "nbconvert_exporter": "python",
   "pygments_lexer": "ipython3",
   "version": "3.7.3"
  }
 },
 "nbformat": 4,
 "nbformat_minor": 2
}
