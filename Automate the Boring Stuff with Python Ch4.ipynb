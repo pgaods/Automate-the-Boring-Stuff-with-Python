{
 "cells": [
  {
   "cell_type": "markdown",
   "metadata": {},
   "source": [
    "In this module we study basic data types and their associated with methods. The first thing we will go over is 'list'."
   ]
  },
  {
   "cell_type": "markdown",
   "metadata": {},
   "source": [
    "A list is an object that contains multiple values in an ordered sequence. The term 'list' value refers to the list itself (which is a value that can be stored in a variable or passed to a function like any other value), not the values inside the list value. A list value looks like this: ['cat', 'bat', 'rat', 'elephant']. Just as string values are typed with quote characters to mark where the string begins and ends, a list begins with an opening square bracket and ends with a closing square bracket, \"[\" and \"]\". Values inside the list are also called items. Items are separated with commas.\n",
    "\n",
    "Just like in R, indexing is possible in Python for lists. However, the position always starts from 0. Negative signs means you are starting the position from the left to right. Python will give you an IndexError error message if you use an index that exceeds the number of values in your list value. In addition, the \"colon\" punctuation \":\" implies 'keep on going' (very similar to SAS). So this can also be used for indexing list too. Elements of lists can be of different data types. "
   ]
  },
  {
   "cell_type": "code",
   "execution_count": 1,
   "metadata": {
    "collapsed": false
   },
   "outputs": [
    {
     "name": "stdout",
     "output_type": "stream",
     "text": [
      "3\n",
      "Katrina\n",
      "[3, 'Blah', 8, 'Katrina']\n",
      "['Blah', 8, 'Katrina']\n"
     ]
    }
   ],
   "source": [
    "a=[3,5,8,'Katrina']\n",
    "print(a[0])\n",
    "print(a[-1])\n",
    "a[1]=\"Blah\"\n",
    "print(a)\n",
    "print(a[1:])"
   ]
  },
  {
   "cell_type": "markdown",
   "metadata": {},
   "source": [
    "Lists can be concatenated and replicated. "
   ]
  },
  {
   "cell_type": "code",
   "execution_count": 2,
   "metadata": {
    "collapsed": false
   },
   "outputs": [
    {
     "name": "stdout",
     "output_type": "stream",
     "text": [
      "[3, 'Blah', 8, 'Katrina', 1, 0.4, 'Tim']\n",
      "[1, 0.4, 'Tim', 1, 0.4, 'Tim', 1, 0.4, 'Tim']\n"
     ]
    }
   ],
   "source": [
    "b=[1,0.4, 'Tim']\n",
    "print(a+b)\n",
    "print(b*3)"
   ]
  },
  {
   "cell_type": "markdown",
   "metadata": {},
   "source": [
    "The 'del' statement will delete values at an index in a list. All of the values in the list after the deleted value will be moved up one index."
   ]
  },
  {
   "cell_type": "code",
   "execution_count": 3,
   "metadata": {
    "collapsed": false
   },
   "outputs": [
    {
     "name": "stdout",
     "output_type": "stream",
     "text": [
      "['cat', 'bat', 'elephant']\n"
     ]
    }
   ],
   "source": [
    "pest = ['cat', 'bat', 'rat', 'elephant']\n",
    "del pest[2]\n",
    "print(pest)"
   ]
  },
  {
   "cell_type": "markdown",
   "metadata": {},
   "source": [
    "An important trick while using list is to know when to apply the empty list. For example, if the code needs more dynamic and interactive type of programming (such as utilizing the input() function to ask for user's input information), we can combine an empty list with a loop structure. As an example below, suppose we want to store the name of our cats. The program essentially uses a single list and stores any number of cats that the user types in. The benefit of using a list is that your data is now in a structure, so your program is much more flexible in processing the data than it would be with several repetitive variables.\n",
    "\n",
    "Below is an interactive program example that prompts users to put in their cat's name. If they don't put in anything, the program ends:"
   ]
  },
  {
   "cell_type": "code",
   "execution_count": 4,
   "metadata": {
    "collapsed": false
   },
   "outputs": [
    {
     "name": "stdout",
     "output_type": "stream",
     "text": [
      "Enter the name of cat 1 (Or press enter to stop.):\n",
      "Hosea\n",
      "Enter the name of cat 2 (Or press enter to stop.):\n",
      "Ezekiel\n",
      "Enter the name of cat 3 (Or press enter to stop.):\n",
      "Tyson\n",
      "Enter the name of cat 4 (Or press enter to stop.):\n",
      "Floyd\n",
      "Enter the name of cat 5 (Or press enter to stop.):\n",
      "\n",
      "The cat names are:\n",
      "   Hosea\n",
      "   Ezekiel\n",
      "   Tyson\n",
      "   Floyd\n"
     ]
    }
   ],
   "source": [
    "catNames = []\n",
    "while True:\n",
    "    print('Enter the name of cat ' + str(len(catNames) + 1) + ' (Or press enter to stop.):')\n",
    "    name = input()\n",
    "    if name == '':\n",
    "        break\n",
    "    catNames = catNames + [name] # list concatenation\n",
    "print('The cat names are:')\n",
    "for name in catNames:\n",
    "    print('   ' + name)"
   ]
  },
  {
   "cell_type": "markdown",
   "metadata": {},
   "source": [
    "Lists are often used in the 'for' loop, and the looping variable doesn't always need to be a number. Below is an example. "
   ]
  },
  {
   "cell_type": "code",
   "execution_count": 5,
   "metadata": {
    "collapsed": false
   },
   "outputs": [
    {
     "name": "stdout",
     "output_type": "stream",
     "text": [
      "Index 0 in supplies is: pens\n",
      "Index 1 in supplies is: staplers\n",
      "Index 2 in supplies is: flame-throwers\n",
      "Index 3 in supplies is: binders\n"
     ]
    }
   ],
   "source": [
    "supplies = ['pens', 'staplers', 'flame-throwers', 'binders']\n",
    "for i in range(len(supplies)):\n",
    "    print('Index ' + str(i) + ' in supplies is: ' + supplies[i])"
   ]
  },
  {
   "cell_type": "markdown",
   "metadata": {},
   "source": [
    "There are another two tricks associated with lists in Python. The first trick is the multiple assignment trick, which is essentially a shortcut that lets you assign multiple variables with the values in a list in one line of code. Below is an example."
   ]
  },
  {
   "cell_type": "code",
   "execution_count": 6,
   "metadata": {
    "collapsed": false
   },
   "outputs": [
    {
     "name": "stdout",
     "output_type": "stream",
     "text": [
      "['fat', 'black', 'loud']\n",
      "fat\n",
      "black\n",
      "loud\n",
      "\n",
      "<class 'str'>\n"
     ]
    }
   ],
   "source": [
    "cat = ['fat', 'black', 'loud']\n",
    "size, color, disposition = cat\n",
    "print(cat)\n",
    "print(size) # fat\n",
    "print(color) # black\n",
    "print(disposition) # loud\n",
    "print('\\n'+str(type(size)))"
   ]
  },
  {
   "cell_type": "markdown",
   "metadata": {},
   "source": [
    "The second trick is called the augmented assignment operator. When assigning a value to a variable, you will frequently use the variable itself. For example, after assigning 42 to the variable 'spam', you would increase the value in 'spam' by 1. As a shortcut, you can use the augmented assignment operator += to do the same thing. There are augmented assignment operators for the +, -, *, /, and % operators. \n",
    "\n",
    "Notice that the += operator can also do both string and list concatenations."
   ]
  },
  {
   "cell_type": "code",
   "execution_count": 7,
   "metadata": {
    "collapsed": false
   },
   "outputs": [
    {
     "name": "stdout",
     "output_type": "stream",
     "text": [
      "43\n"
     ]
    }
   ],
   "source": [
    "spam=42\n",
    "spam +=1 # same as spam=spame+1\n",
    "print(spam)"
   ]
  },
  {
   "cell_type": "code",
   "execution_count": 8,
   "metadata": {
    "collapsed": false
   },
   "outputs": [
    {
     "name": "stdout",
     "output_type": "stream",
     "text": [
      "Hello World!\n"
     ]
    }
   ],
   "source": [
    "spam2='Hello'\n",
    "spam2+=\" World!\"\n",
    "print(spam2)"
   ]
  },
  {
   "cell_type": "markdown",
   "metadata": {},
   "source": [
    "We now discuss methods, which are essentially functions associated with a specific type of object. A method is the same thing as a function, except it is \"called on\" a value. Each data type/object has its own set of methods. The list data type, for example, has several useful methods for finding, adding, removing, and otherwise manipulating values in a list."
   ]
  },
  {
   "cell_type": "code",
   "execution_count": 11,
   "metadata": {
    "collapsed": false
   },
   "outputs": [
    {
     "name": "stdout",
     "output_type": "stream",
     "text": [
      "2\n",
      "0\n",
      "['hello', 'hi', 'howdy', 'heyas', 'hello', 'moose']\n",
      "['hello', 'hi', 'howdy', 'heyas', 'hello', 'moose', '6th element starting from 0']\n",
      "['6th element starting from 0', 'hello', 'heyas', 'hi', 'howdy', 'moose']\n"
     ]
    }
   ],
   "source": [
    "spamlist= ['hello', 'hi', 'howdy', 'heyas', 'hello']\n",
    "print(spamlist.index('howdy'))\n",
    "print(spamlist.index('hello')) \n",
    "spamlist.append('moose') # when there are duplicates of the values in the list, the first index is returned\n",
    "print(spamlist)\n",
    "spamlist.insert(6,'6th element starting from 0') # inserting value at a certain index position\n",
    "print(spamlist)\n",
    "spamlist.remove('hello')\n",
    "spamlist.sort() # sorting method\n",
    "print(spamlist)"
   ]
  },
  {
   "cell_type": "markdown",
   "metadata": {
    "collapsed": true
   },
   "source": [
    "Lists aren’t the only data types that represent ordered sequences of values. For example, strings and lists are actually similar, if you consider a string to be a “list” of single text characters. Many of the things you can do with lists can also be done with strings: indexing; slicing; and using them with 'for' loops, with len(), and with the 'in' and 'not in' operators. Strings have its own set of methods, just like lists do. "
   ]
  },
  {
   "cell_type": "code",
   "execution_count": 20,
   "metadata": {
    "collapsed": false
   },
   "outputs": [
    {
     "name": "stdout",
     "output_type": "stream",
     "text": [
      "* * * z * * *\n",
      "* * * o * * *\n",
      "* * * p * * *\n",
      "* * * h * * *\n",
      "* * * i * * *\n",
      "* * * e * * *\n"
     ]
    },
    {
     "data": {
      "text/plain": [
       "False"
      ]
     },
     "execution_count": 20,
     "metadata": {},
     "output_type": "execute_result"
    }
   ],
   "source": [
    "name = 'zophie'\n",
    "for i in name:\n",
    "    print('* * * ' + i + ' * * *')\n",
    "name.isdigit()"
   ]
  },
  {
   "cell_type": "markdown",
   "metadata": {},
   "source": [
    "There is a big difference between a list and a string. A list is of a mutable data type while strings and tuples (another data type just like lists) are immutable. Just like lists, tuples can perform indexing but you won't see methods like 'append' that is associated with it, because appending implies that you are can alter the object, which is a violation of immutability. Tuples are indicated by traditional parentheses. "
   ]
  },
  {
   "cell_type": "code",
   "execution_count": 21,
   "metadata": {
    "collapsed": false
   },
   "outputs": [
    {
     "name": "stdout",
     "output_type": "stream",
     "text": [
      "('hello', 42, 0.5)\n"
     ]
    }
   ],
   "source": [
    "eggs = ('hello', 42, 0.5) # this is a tuple\n",
    "print(eggs)"
   ]
  },
  {
   "cell_type": "markdown",
   "metadata": {},
   "source": [
    "You can also change data types from lists to tuples or tuples to lists. All you have to do is to use the list() or tuple() function. "
   ]
  },
  {
   "cell_type": "code",
   "execution_count": 24,
   "metadata": {
    "collapsed": false
   },
   "outputs": [
    {
     "data": {
      "text/plain": [
       "list"
      ]
     },
     "execution_count": 24,
     "metadata": {},
     "output_type": "execute_result"
    }
   ],
   "source": [
    "egg2=list(eggs)\n",
    "type(egg2)"
   ]
  },
  {
   "cell_type": "code",
   "execution_count": null,
   "metadata": {
    "collapsed": true
   },
   "outputs": [],
   "source": []
  }
 ],
 "metadata": {
  "kernelspec": {
   "display_name": "Python 3",
   "language": "python",
   "name": "python3"
  },
  "language_info": {
   "codemirror_mode": {
    "name": "ipython",
    "version": 3
   },
   "file_extension": ".py",
   "mimetype": "text/x-python",
   "name": "python",
   "nbconvert_exporter": "python",
   "pygments_lexer": "ipython3",
   "version": "3.6.0"
  }
 },
 "nbformat": 4,
 "nbformat_minor": 2
}
