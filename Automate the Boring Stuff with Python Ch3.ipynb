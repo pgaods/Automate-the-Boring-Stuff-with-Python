{
 "cells": [
  {
   "cell_type": "markdown",
   "metadata": {
    "collapsed": true
   },
   "source": [
    "We now study topics related to functions, which are always initiated by the 'def' statement. An important concept related to functions is called scope. "
   ]
  },
  {
   "cell_type": "markdown",
   "metadata": {},
   "source": [
    "Parameters and variables that are assigned in a called function are said to exist in that function’s local scope. Variables that are assigned outside all functions are said to exist in the global scope. A variable that exists in a local scope is called a local variable, while a variable that exists in the global scope is called a global variable. A variable must be one or the other; it cannot be both local and global. Think of a scope as a container for variables. When a scope is destroyed, all the values stored in the scope’s variables are forgotten. There is only one global scope, and it is created when your program begins. When your program terminates, the global scope is\n",
    "destroyed, and all its variables are forgotten. Otherwise, the next time you run your program, the variables would remember their values from the last time you ran it.\n",
    "\n",
    "A local scope is created whenever a function is called. Any variables assigned in this function exist within the local scope. When the function returns, the local scope is destroyed, and these variables are forgotten. The next time you call this function, the local variables will not remember the values stored in them from the last time the function was\n",
    "called."
   ]
  },
  {
   "cell_type": "markdown",
   "metadata": {},
   "source": [
    "Scopes matter for several reasons. First, code in the global scope cannot use any local variables, but a local scope can access global variables. Next, code in a function’s local scope obviously cannot use variables in any other local scope. Last but not least, you can use the same name for different variables if they are in different scopes. For example, there can be a local variable named 'spam' and a global variable also named 'spam'. This works exactly the same way as in SAS. But note that this type of programming is not recommended because it could be confusing in many scenarios. "
   ]
  },
  {
   "cell_type": "code",
   "execution_count": 1,
   "metadata": {
    "collapsed": false
   },
   "outputs": [
    {
     "name": "stdout",
     "output_type": "stream",
     "text": [
      "eggs=42\n"
     ]
    }
   ],
   "source": [
    "def spam():\n",
    "    print('eggs=' + str(eggs))\n",
    "eggs = 42\n",
    "spam()"
   ]
  },
  {
   "cell_type": "markdown",
   "metadata": {},
   "source": [
    "Consider the above example. Since there is no parameter named 'eggs' or any code that assigns 'eggs' a value in the spam() function, when eggs is used in spam(), Python considers it a reference to the global variable eggs. This is why 42 is printed when the previous program is run. This is an example that shows how a global variable can be read from a local scope. \n",
    "\n",
    "Now consider the example below that demonstrates how global variables and local variables can be given the same name while yielding different results. "
   ]
  },
  {
   "cell_type": "code",
   "execution_count": 3,
   "metadata": {
    "collapsed": false
   },
   "outputs": [
    {
     "name": "stdout",
     "output_type": "stream",
     "text": [
      "bacon local\n",
      "spam2 local\n",
      "\n",
      " global var\n"
     ]
    }
   ],
   "source": [
    "def spam2():\n",
    "    eggs = 'spam2 local'\n",
    "    print(eggs) \n",
    "def bacon():\n",
    "    eggs = 'bacon local'\n",
    "    print(eggs) \n",
    "    spam2()\n",
    "eggs = 'global var'\n",
    "bacon()\n",
    "print('\\n', eggs) # prints 'global var'"
   ]
  },
  {
   "cell_type": "markdown",
   "metadata": {},
   "source": [
    "The idea of the programs above is as follows: first, when we execute the bacon() function, the variable 'eggs' has a local scope, which is 'bacon local'. As each line is being executed, the function spam2() is nested within bacon(). Executing this function makes the program look for the scope of eggs again, this time 'spam2 local'. Once this is all done, the last print() statement prints 'eggs'. Since now no local scope exists for 'eggs', Python looks for a global variable for 'eggs'. Thus we have our results in the order displayed above. "
   ]
  },
  {
   "cell_type": "markdown",
   "metadata": {},
   "source": [
    "There are a few rules to tell whether a variable is in a local scope or global scope: 1) if a variable is being used in the global scope (that is, outside of all functions), then it is always a global variable; 2) if there is a global statement for that variable in a function, it is a global variable; otherwise, if the variable is used in an assignment statement in the function, it is a local variable; however, if the variable is not used in an assignment statement, it is a global variable. \n",
    "\n",
    "One can always use the global statement to declare global scope, just like what we do in SAS. "
   ]
  },
  {
   "cell_type": "code",
   "execution_count": 4,
   "metadata": {
    "collapsed": false
   },
   "outputs": [
    {
     "name": "stdout",
     "output_type": "stream",
     "text": [
      "rotten\n"
     ]
    }
   ],
   "source": [
    "def food():\n",
    "    global eggs\n",
    "    eggs = 'rotten' # this is global\n",
    "def bacon2():\n",
    "    eggs = 'bacon' # this is local to the function bacon2()\n",
    "eggs = 42 \n",
    "food() \n",
    "bacon2()\n",
    "print(eggs) # rotten"
   ]
  },
  {
   "cell_type": "code",
   "execution_count": 4,
   "metadata": {
    "collapsed": false
   },
   "outputs": [
    {
     "name": "stdout",
     "output_type": "stream",
     "text": [
      "spinach\n",
      "garlic\n",
      "arugula\n"
     ]
    }
   ],
   "source": [
    "def pizza():\n",
    "    global toppings\n",
    "    toppings='spinach'\n",
    "    print(toppings)\n",
    "def blazepizza():\n",
    "    toppings='garlic'\n",
    "    print(toppings)\n",
    "pizza() # spinach\n",
    "blazepizza() # garlic\n",
    "toppings='arugula'\n",
    "print(toppings) # arugula"
   ]
  },
  {
   "cell_type": "markdown",
   "metadata": {},
   "source": [
    "We now move onto a different topic called 'exception handling' in Python. When we program functions in Python, we often encounter errors. The motivation of exception handling is as follows. Right now, getting an error, or exception, in your Python program means the entire program will crash. You don’t want this to happen in real-world programs. Instead, you\n",
    "want the program to detect errors, handle them, and then continue to run.\n",
    "\n",
    "Errors can be handled with 'try' and 'except' statements. The code that could potentially have an error is put in a 'try' clause. The program execution moves to the start of a following 'except' clause if an error happens. Below is a demonstrative example of exception handling. The idea of the 'try' and 'except' clauses are that when code in a 'try' clause causes an error, the program execution immediately moves to the code in the 'except' clause. After running that code, the execution continues as normal. This type of programming is more flexible then the if-elif type of statements because you don't have to specify each sub-cases when the program fails for different reasons. "
   ]
  },
  {
   "cell_type": "code",
   "execution_count": 5,
   "metadata": {
    "collapsed": false
   },
   "outputs": [
    {
     "name": "stdout",
     "output_type": "stream",
     "text": [
      "21.0\n",
      "Error: Invalid argument, because you put in 0 as your denominator\n",
      "None\n"
     ]
    }
   ],
   "source": [
    "def divisor(divideBy):\n",
    "    try:\n",
    "        return 42/divideBy\n",
    "    except ZeroDivisionError:\n",
    "        print('Error: Invalid argument, because you put in ' + str(divideBy) + ' as your denominator')\n",
    "print(divisor(2))\n",
    "print(divisor(0))"
   ]
  },
  {
   "cell_type": "markdown",
   "metadata": {},
   "source": [
    "One last caveat about exceptions handling is that once the execution jumps to the code in the except clause, it does not return to the try clause. Instead, it just continues moving down as normal."
   ]
  },
  {
   "cell_type": "markdown",
   "metadata": {},
   "source": [
    "The 'try ... except' statement has an optional 'else' clause, which, when present, must follow all 'except' clauses. It is useful for code that must be executed if the 'try' clause does not raise an exception."
   ]
  },
  {
   "cell_type": "markdown",
   "metadata": {},
   "source": [
    "The 'try' statement has another optional clause which is intended to define clean-up actions that must be executed under all circumstances. A 'finally' clause is always executed before leaving the 'try' statement, whether an exception has occurred or not. When an exception has occurred in the 'try' clause and has not been handled by an 'except' clause (or it has occurred in an 'except' or 'else' clause), it is re-raised after the 'finally' clause has been executed. The 'finally' clause is also executed 'on the way out' when any other clause of the 'try' statement is left via a 'break', 'continue' or 'return' statement. Essentially, the 'finally' clause is executed in any event. Below is am example:"
   ]
  },
  {
   "cell_type": "code",
   "execution_count": 6,
   "metadata": {
    "collapsed": false
   },
   "outputs": [
    {
     "name": "stdout",
     "output_type": "stream",
     "text": [
      "result is 0.5\n",
      "executing with success! \n",
      "------------\n",
      "\n",
      "division by zero!\n",
      "executing with success! \n",
      "------------\n",
      "\n"
     ]
    }
   ],
   "source": [
    "def divide(x, y):\n",
    "    try:\n",
    "        result = x/y\n",
    "    except ZeroDivisionError:\n",
    "        print(\"division by zero!\")\n",
    "    else:\n",
    "        print(\"result is\", result)\n",
    "    finally:\n",
    "        print(\"executing with success! \\n------------\\n\")\n",
    "divide(1, 2)\n",
    "divide(1, 0)"
   ]
  },
  {
   "cell_type": "code",
   "execution_count": null,
   "metadata": {
    "collapsed": true
   },
   "outputs": [],
   "source": []
  }
 ],
 "metadata": {
  "kernelspec": {
   "display_name": "Python 3",
   "language": "python",
   "name": "python3"
  },
  "language_info": {
   "codemirror_mode": {
    "name": "ipython",
    "version": 3
   },
   "file_extension": ".py",
   "mimetype": "text/x-python",
   "name": "python",
   "nbconvert_exporter": "python",
   "pygments_lexer": "ipython3",
   "version": "3.6.0"
  }
 },
 "nbformat": 4,
 "nbformat_minor": 2
}
