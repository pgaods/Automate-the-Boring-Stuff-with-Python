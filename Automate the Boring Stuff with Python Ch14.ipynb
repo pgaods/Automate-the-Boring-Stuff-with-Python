{
 "cells": [
  {
   "cell_type": "markdown",
   "metadata": {},
   "source": [
    "In this lecture, we study how to use Python to work with CSV and JSON files. CSV and JSON files are just plaintext files in nature. You can view them in a text editor, such as IDLE’s file editor. But Python also comes with the special 'csv' and 'json' modules, each providing functions to help you work with these file formats.\n",
    "\n",
    "CSV stands for “comma-separated values,” and CSV files are simplified spreadsheets stored as plaintext files. JSON is a format that stores information as JavaScript source code in plaintext files. You don’t need to know the JavaScript programming language to use JSON files, but the JSON format is useful to know because it’s used in many web applications. We will go over the basics of JSON files in detail later. "
   ]
  },
  {
   "cell_type": "markdown",
   "metadata": {},
   "source": [
    "We first discuss CSV files, in which each line in a CSV file represents a row in the spreadsheet, and commas separate the cells in the row. CSV files are simple, lacking many of the features of an Excel spreadsheet. For example, CSV files don’t have types for their values—everything is a string. They don’t have settings for font size or color. They don’t have multiple worksheets, nor cell widths, heights, or any concepts of merged cells. Last but not least, they won't allow images or charts to be embedded in them. \n",
    "\n",
    "Since CSV files are just plain text files, you might be tempted to read them in as text strings. This is ok but not recommended, because CSV files may not all be comma-delimited. We strongly encourage programmers to use the 'csv' module to handle CSV files. \n",
    "\n",
    "To read data from a CSV file with the 'csv' module, you need to create a 'Reader' object. A 'Reader' object lets you iterate over lines in the CSV file. Instead of calling the read() or readlines() method on the 'File' object that the method open() returns, we can pass it to the csv.reader() function. This will return a 'Reader' object for you to use. Note that you don’t pass a filename string directly to the csv.reader() function. The most direct way to access the values in the 'Reader' object is to convert it to a plain Python list by passing it to list():"
   ]
  },
  {
   "cell_type": "code",
   "execution_count": 2,
   "metadata": {
    "collapsed": true
   },
   "outputs": [],
   "source": [
    "import csv\n",
    "import os\n",
    "os.chdir(\"C:\\\\Users\\\\GAO\\\\Anaconda\\\\Gao_Jupyter_Notebook_Python_Codes\\\\Automate the Boring Stuff with Python\\\\Datasets and Files\")"
   ]
  },
  {
   "cell_type": "code",
   "execution_count": 2,
   "metadata": {},
   "outputs": [
    {
     "name": "stdout",
     "output_type": "stream",
     "text": [
      "[['4/5/2014 13:34', 'Apples', '73'], ['4/5/2014 3:41', 'Cherries', '85'], ['4/6/2014 12:46', 'Pears', '14'], ['4/8/2014 8:59', 'Oranges', '52'], ['4/10/2014 2:07', 'Apples', '152'], ['4/10/2014 18:10', 'Bananas', '23'], ['4/10/2014 2:40', 'Strawberries', '98']]\n"
     ]
    }
   ],
   "source": [
    "exampleFile = open('example.csv')\n",
    "exampleReader = csv.reader(exampleFile)\n",
    "exampleData = list(exampleReader)\n",
    "print(exampleData)"
   ]
  },
  {
   "cell_type": "markdown",
   "metadata": {},
   "source": [
    "Now that you have the CSV file as a list of lists, you can access the value at a particular row and column with the expression \n",
    "\n",
    "    list_object_csv[row_index][col_index]\n",
    "\n",
    "Here 'row_index' is the index of one of the lists in the list object, and 'col_index' is the index of the item you want from that list. Below we iteratively print out the elements of the CSV file for each row and column in two ways:"
   ]
  },
  {
   "cell_type": "code",
   "execution_count": 3,
   "metadata": {},
   "outputs": [
    {
     "name": "stdout",
     "output_type": "stream",
     "text": [
      "4/5/2014 13:34\n",
      "Apples\n",
      "73\n",
      "4/5/2014 3:41\n",
      "Cherries\n",
      "85\n",
      "4/6/2014 12:46\n",
      "Pears\n",
      "14\n",
      "4/8/2014 8:59\n",
      "Oranges\n",
      "52\n",
      "4/10/2014 2:07\n",
      "Apples\n",
      "152\n",
      "4/10/2014 18:10\n",
      "Bananas\n",
      "23\n",
      "4/10/2014 2:40\n",
      "Strawberries\n",
      "98\n",
      "\n",
      "\n",
      "['4/5/2014 13:34', 'Apples', '73']\n",
      "['4/5/2014 3:41', 'Cherries', '85']\n",
      "['4/6/2014 12:46', 'Pears', '14']\n",
      "['4/8/2014 8:59', 'Oranges', '52']\n",
      "['4/10/2014 2:07', 'Apples', '152']\n",
      "['4/10/2014 18:10', 'Bananas', '23']\n",
      "['4/10/2014 2:40', 'Strawberries', '98']\n"
     ]
    }
   ],
   "source": [
    "for i in range(len(exampleData)):\n",
    "    for j in range(len(exampleData[i])):\n",
    "        print(exampleData[i][j])\n",
    "print('\\n')\n",
    "for t in range(len(exampleData)):\n",
    "        print(exampleData[t])"
   ]
  },
  {
   "cell_type": "markdown",
   "metadata": {},
   "source": [
    "Using lists brings up a good point. For large CSV files, you’ll want to use the 'Reader' object in a for loop. This avoids loading the entire file into memory at once. To get the row number, use the 'Reader' object’s line_num variable, which contains the number of the current line. Keep in mind that the 'Reader' object can be looped over only once. To reread the CSV file, you must call csv.reader to create a 'Reader' object.\n",
    "\n",
    "Let's read the data in a more compact way this time:"
   ]
  },
  {
   "cell_type": "code",
   "execution_count": 4,
   "metadata": {},
   "outputs": [
    {
     "name": "stdout",
     "output_type": "stream",
     "text": [
      "Row 1: ['4/5/2014 13:34', 'Apples', '73']\n",
      "Row 2: ['4/5/2014 3:41', 'Cherries', '85']\n",
      "Row 3: ['4/6/2014 12:46', 'Pears', '14']\n",
      "Row 4: ['4/8/2014 8:59', 'Oranges', '52']\n",
      "Row 5: ['4/10/2014 2:07', 'Apples', '152']\n",
      "Row 6: ['4/10/2014 18:10', 'Bananas', '23']\n",
      "Row 7: ['4/10/2014 2:40', 'Strawberries', '98']\n"
     ]
    }
   ],
   "source": [
    "exampleFile = open('example.csv')\n",
    "exampleReader = csv.reader(exampleFile)\n",
    "for row in exampleReader:\n",
    "    print('Row ' + str(exampleReader.line_num) + ': ' + str(row))"
   ]
  },
  {
   "cell_type": "markdown",
   "metadata": {},
   "source": [
    "In a similar fashion, a 'Writer' object lets you write data to a CSV file. To create a 'Writer' object, you use the csv.writer() function. \n",
    "\n",
    "Below is another example of writing out a CSV file by manual entry. First, we call open() and pass it 'w' to open a file in write mode. This will create the object you can then pass to csv.writer() to create a 'Writer' object. On Windows, you’ll also need to pass a blank string for the open() function’s 'newline' keyword argument. For technical reasons beyond the scope of this lecture, if you forget to set the newline argument, the rows in output.csv will be double-spaced. The writerow() method for 'Writer' objects takes a list argument. Each value in the list is placed in its own cell in the output CSV file. The return value of writerow() is the number of characters written to the file for that row (including 'newline' characters)."
   ]
  },
  {
   "cell_type": "code",
   "execution_count": 5,
   "metadata": {
    "collapsed": true
   },
   "outputs": [],
   "source": [
    "outputFile = open('output_ch14_1.csv', 'w', newline='')\n",
    "outputWriter = csv.writer(outputFile)\n",
    "outputWriter.writerow(['spam', 'eggs', 'bacon', 'ham'])\n",
    "outputWriter.writerow(['Hello, world!', 'eggs', 'bacon', 'ham'])\n",
    "outputWriter.writerow([1, 2, 3.141592, 4])\n",
    "outputFile.close()"
   ]
  },
  {
   "cell_type": "markdown",
   "metadata": {},
   "source": [
    "Notice how the 'Writer' object automatically escapes the comma in the value 'Hello, world!' with double quotes in the CSV file. The 'csv' module saves you from having to handle these special cases yourself.\n",
    "\n",
    "Now for another example, say you want to separate cells with a tab character instead of a comma and you want the rows to be double-spaced. You could enter something like the following:"
   ]
  },
  {
   "cell_type": "code",
   "execution_count": 6,
   "metadata": {
    "collapsed": true
   },
   "outputs": [],
   "source": [
    "csvFile = open('output_ch14_2.csv', 'w', newline='')\n",
    "csvWriter = csv.writer(csvFile, delimiter='\\t', lineterminator='\\n\\n')\n",
    "csvWriter.writerow(['apples', 'oranges', 'grapes'])\n",
    "csvWriter.writerow(['eggs', 'bacon', 'ham'])\n",
    "csvWriter.writerow(['spam', 'spam', 'spam', 'spam', 'spam', 'spam'])\n",
    "csvFile.close()"
   ]
  },
  {
   "cell_type": "markdown",
   "metadata": {},
   "source": [
    "Now this program above changes the delimiter and line terminator characters in your file. The delimiter is the character that appears between cells on a row. By default, the delimiter for a CSV file is a comma. The 'lineterminator' is the character that comes at the end of a row. By default, the 'lineterminator' is a 'newline'. You can change characters to different values by using the delimiter and 'lineterminator' keyword arguments with the csv.writer() function.\n",
    "\n",
    "Passing delimeter='\\t' and lineterminator='\\n\\n' changes the character between cells to a tab and the character between rows to two 'newlines'. "
   ]
  },
  {
   "cell_type": "markdown",
   "metadata": {},
   "source": [
    "Next we will talk about JSON files. 'JavaScript Object Notation' is a popular way to format data as a single human-readable string. JSON is the native way that JavaScript programs write their data structures and usually resembles what Python’s pprint() function would produce. You don’t need to know JavaScript in order to work with JSON-formatted data.\n",
    "\n",
    "Here’s an example of data formatted as JSON:"
   ]
  },
  {
   "cell_type": "code",
   "execution_count": 7,
   "metadata": {},
   "outputs": [
    {
     "data": {
      "image/jpeg": "[encoded data removed]",
      "text/plain": [
       "<IPython.core.display.Image object>"
      ]
     },
     "execution_count": 7,
     "metadata": {},
     "output_type": "execute_result"
    }
   ],
   "source": [
    "from IPython.display import Image\n",
    "Image(\"ch14_snapshot_1.jpg\") "
   ]
  },
  {
   "cell_type": "markdown",
   "metadata": {},
   "source": [
    "JSON is useful to know, because many websites offer JSON content as a way for programs to interact with the website. This is known as providing an application programming interface (API). Accessing an API is the same as accessing any other web page via a URL. The difference is that the data returned by an API is formatted (with JSON, for example) for machines; APIs aren’t easy for people to read.\n",
    "\n",
    "Many websites make their data available in JSON format. Facebook, Twitter, Yahoo, Google, Tumblr, Wikipedia, Flickr, Data.gov, Reddit, IMDb, Rotten Tomatoes, LinkedIn, and many other popular sites offer APIs for programs to use. Some of these sites require registration, which is almost always free. You’ll have to find documentation for what URLs your program needs to request in order to get the data you want, as well as the general format of the JSON data structures that are returned. This documentation should be provided by whatever site is offering the API; if they have a “Developers” page, look for the documentation there.\n",
    "\n",
    "For example, using APIs, you could write programs that do the following:\n",
    "   1. Scrape raw data from websites (accessing APIs is often more convenient than downloading web pages and parsing HTML with web scraping modules)\n",
    "   2. Automatically download new posts from one of your social network accounts and post them to another account. For example, you could take your Tumblr posts and post them to Facebook.\n",
    "   3. Create a \"movie encyclopedia\" for your personal movie collection by pulling data from IMDb, Rotten Tomatoes, and Wikipedia and putting it into a single text file on your computer.\n",
    "   \n",
    "There are many other applications of JSON of course. We won't list all of them here. "
   ]
  },
  {
   "cell_type": "code",
   "execution_count": 8,
   "metadata": {
    "collapsed": true
   },
   "outputs": [],
   "source": [
    "import json"
   ]
  },
  {
   "cell_type": "markdown",
   "metadata": {},
   "source": [
    "Python’s 'json' module handles all the details of translating between a string with JSON data and Python values for the json.loads() and json.dumps() functions. JSON can’t store every kind of Python value. It can contain values of only the following data types: strings, integers, floats, Booleans, lists, dictionaries, and NoneType. JSON cannot represent Python-specific objects, such as File objects, CSV Reader or Writer objects, Regex objects etc.\n",
    "\n",
    "To translate a string containing JSON data into a Python value, pass it to the json.loads() function. The result is usually a dictionary (the name means 'load string' not 'loads'). Here is an example:"
   ]
  },
  {
   "cell_type": "code",
   "execution_count": 9,
   "metadata": {},
   "outputs": [
    {
     "name": "stdout",
     "output_type": "stream",
     "text": [
      "{'name': 'Zophie', 'isCat': True, 'miceCaught': 0, 'felineIQ': None}\n",
      "<class 'dict'>\n"
     ]
    }
   ],
   "source": [
    "stringOfJsonData = '{\"name\": \"Zophie\", \"isCat\": true, \"miceCaught\": 0, \"felineIQ\": null}'\n",
    "jsonDataAsPythonValue = json.loads(stringOfJsonData)\n",
    "print(jsonDataAsPythonValue)\n",
    "print(type(jsonDataAsPythonValue)) # this is a dictionary"
   ]
  },
  {
   "cell_type": "markdown",
   "metadata": {},
   "source": [
    "Note that JSON strings always use double quotes. It will return that data as a Python dictionary. Python dictionaries are not ordered, so the key-value pairs may appear in a different order.\n",
    "\n",
    "The json.dumps() function (which means \"dump string\", not \"dumps\") will translate a Python value into a string of JSON-formatted data:"
   ]
  },
  {
   "cell_type": "code",
   "execution_count": 10,
   "metadata": {},
   "outputs": [
    {
     "name": "stdout",
     "output_type": "stream",
     "text": [
      "{\"isCat\": true, \"miceCaught\": 0, \"name\": \"Zophie\", \"felineIQ\": null}\n",
      "<class 'str'>\n"
     ]
    }
   ],
   "source": [
    "pythonValue = {'isCat': True, 'miceCaught': 0, 'name': 'Zophie', 'felineIQ': None}\n",
    "stringOfJsonData = json.dumps(pythonValue)\n",
    "print(stringOfJsonData)\n",
    "print(type(stringOfJsonData)) # this is a string"
   ]
  },
  {
   "cell_type": "code",
   "execution_count": null,
   "metadata": {
    "collapsed": true
   },
   "outputs": [],
   "source": []
  }
 ],
 "metadata": {
  "kernelspec": {
   "display_name": "Python 3",
   "language": "python",
   "name": "python3"
  },
  "language_info": {
   "codemirror_mode": {
    "name": "ipython",
    "version": 3
   },
   "file_extension": ".py",
   "mimetype": "text/x-python",
   "name": "python",
   "nbconvert_exporter": "python",
   "pygments_lexer": "ipython3",
   "version": "3.6.3"
  }
 },
 "nbformat": 4,
 "nbformat_minor": 2
}
