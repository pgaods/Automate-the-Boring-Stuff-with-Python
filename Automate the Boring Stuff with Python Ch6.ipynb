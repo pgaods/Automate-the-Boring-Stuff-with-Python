{
 "cells": [
  {
   "cell_type": "markdown",
   "metadata": {},
   "source": [
    "Text is one of the most common forms of data your programs will handle. You already know how to concatenate two string values together with the + operator, but you can do much more than that. You can extract partial strings from string values, add or remove spacing, convert letters to lowercase or uppercase, and check that strings are formatted correctly. You can even write Python code to access the clipboard for copying and pasting text. In this module, we still study techniques of strings manipulation. "
   ]
  },
  {
   "cell_type": "markdown",
   "metadata": {},
   "source": [
    "The first thing we need to know is how to use triple strings to comment. This achieves the same as the hash sign \"#\". "
   ]
  },
  {
   "cell_type": "code",
   "execution_count": 1,
   "metadata": {},
   "outputs": [
    {
     "name": "stdout",
     "output_type": "stream",
     "text": [
      "Hello!\n"
     ]
    }
   ],
   "source": [
    "\"\"\"This is a test Python program.\n",
    "Written by Al Sweigart al@inventwithpython.com\n",
    "This program was designed for Python 3, not Python 2.\n",
    "\"\"\"\n",
    "def spam():\n",
    "    \"\"\"This is a multiline comment to help \n",
    "    explain what the spam() function does.\"\"\"\n",
    "print('Hello!') # the triple strings are comments"
   ]
  },
  {
   "cell_type": "markdown",
   "metadata": {},
   "source": [
    "The second thing we need to realize that there are many methods associated with strings. Below are some examples. "
   ]
  },
  {
   "cell_type": "code",
   "execution_count": 2,
   "metadata": {},
   "outputs": [
    {
     "name": "stdout",
     "output_type": "stream",
     "text": [
      "HELLO WORLD!\n",
      "hello world!\n"
     ]
    }
   ],
   "source": [
    "spam = 'Hello world!'\n",
    "spam = spam.upper()\n",
    "print(spam)\n",
    "spam = spam.lower()\n",
    "print(spam)"
   ]
  },
  {
   "cell_type": "markdown",
   "metadata": {},
   "source": [
    "The isupper() and islower() methods will return a Boolean 'True' value if the string has at least one letter and all the letters are uppercase or lowercase, respectively. Otherwise, the method returns 'False'."
   ]
  },
  {
   "cell_type": "code",
   "execution_count": 3,
   "metadata": {},
   "outputs": [
    {
     "name": "stdout",
     "output_type": "stream",
     "text": [
      "False\n",
      "False\n",
      "True\n"
     ]
    }
   ],
   "source": [
    "Janice='Chandler Bing!'\n",
    "print(Janice.islower())\n",
    "print(Janice.isupper())\n",
    "Janice2='O-M-G!'\n",
    "print(Janice2.isupper()) # True"
   ]
  },
  {
   "cell_type": "markdown",
   "metadata": {},
   "source": [
    "Along with islower() and isupper(), there are several string methods that have names beginning with the word 'is'. These methods return Boolean values that describe the nature of the string. Here are some common 'isX' string methods: 1) isalpha() returns 'True' if the string consists only of letters and is not blank. 2) isalnum() returns 'True' if the string consists only of letters and numbers and is not blank. 3) isdecimal() returns 'True' if the string consists only of numeric characters and is not blank. 4) isspace() returns 'True' if the string consists only of spaces, tabs, and new-lines and is not blank. 5) istitle() returns 'True' if the string consists only of words that begin with an uppercase letter followed by only lowercase letters."
   ]
  },
  {
   "cell_type": "code",
   "execution_count": 1,
   "metadata": {},
   "outputs": [
    {
     "name": "stdout",
     "output_type": "stream",
     "text": [
      "True\n",
      "False\n",
      "True\n",
      "True\n",
      "True\n",
      "False\n"
     ]
    }
   ],
   "source": [
    "s1=['hello', 'hello123', '123', 'Hello123', '', 'Hello']\n",
    "print(s1[0].isalpha()) # True\n",
    "print(s1[1].isalpha()) # False\n",
    "print(s1[0].isalnum()) # True\n",
    "print(s1[1].isalnum()) # True\n",
    "print(s1[2].isdecimal()) # True\n",
    "print(s1[4].isspace()) # False"
   ]
  },
  {
   "cell_type": "markdown",
   "metadata": {},
   "source": [
    "The startswith() and endswith() methods return 'True' if the string value they are called on begins or ends (respectively) with the string passed to the method; otherwise, they return 'False'."
   ]
  },
  {
   "cell_type": "code",
   "execution_count": 2,
   "metadata": {},
   "outputs": [
    {
     "name": "stdout",
     "output_type": "stream",
     "text": [
      "True\n",
      "True\n"
     ]
    }
   ],
   "source": [
    "print('Hello world!'.startswith('Hello'))\n",
    "print('Hello world!'.endswith('world!'))"
   ]
  },
  {
   "cell_type": "markdown",
   "metadata": {},
   "source": [
    "The join() method is useful when you have a list of strings that need to be joined together into a single string value. The join() method is called on a string, gets passed a list of strings, and returns a string. The returned string is the concatenation of each string in the passed-in list. Notice that what the string join() calls on is inserted between each string of the list argument. For example, when join(['cats', 'rats', 'bats']) is called on the ', ' string, the returned string is ‘cats, rats, bats’."
   ]
  },
  {
   "cell_type": "code",
   "execution_count": 3,
   "metadata": {},
   "outputs": [
    {
     "name": "stdout",
     "output_type": "stream",
     "text": [
      "cats, rats, bats\n",
      "My name is Simon\n"
     ]
    }
   ],
   "source": [
    "s2=', '\n",
    "animals=['cats', 'rats', 'bats']\n",
    "print(s2.join(animals))\n",
    "s3=' '\n",
    "sentences=['My', 'name', 'is', 'Simon']\n",
    "print(s3.join(sentences))"
   ]
  },
  {
   "cell_type": "markdown",
   "metadata": {},
   "source": [
    "The split() method does the opposite: It’s called on a string value and returns a list of strings."
   ]
  },
  {
   "cell_type": "code",
   "execution_count": 4,
   "metadata": {},
   "outputs": [
    {
     "data": {
      "text/plain": [
       "['My', 'name', 'is', 'Simon']"
      ]
     },
     "execution_count": 4,
     "metadata": {},
     "output_type": "execute_result"
    }
   ],
   "source": [
    "'My name is Simon'.split()"
   ]
  },
  {
   "cell_type": "markdown",
   "metadata": {},
   "source": [
    "By default, the string 'My name is Simon' is split wherever whitespace characters such as the space, tab, or newline characters are found. These whitespace characters are not included in the strings in the returned list. You can pass a delimiter string to the split() method to specify a different string to split upon."
   ]
  },
  {
   "cell_type": "code",
   "execution_count": 5,
   "metadata": {},
   "outputs": [
    {
     "name": "stdout",
     "output_type": "stream",
     "text": [
      "['My', 'name', 'is', 'Simon']\n"
     ]
    }
   ],
   "source": [
    "s4='MyABCnameABCisABCSimon'\n",
    "print(s4.split('ABC'))"
   ]
  },
  {
   "cell_type": "markdown",
   "metadata": {},
   "source": [
    "Next, the rjust() and ljust() string methods return a padded version of the string they are called on, with spaces inserted to justify the text. The first argument to both methods is an integer length for the justified string. For example, 'Hello'.rjust(10) says that we want to right-justify 'Hello' in a string of total length 10. 'Hello' is five characters, so five spaces will be added to its left, giving us a string of 10 characters with 'Hello' justified right. In addition, an optional second argument to rjust() and ljust() will specify a fill character other\n",
    "than a space character. The center() string method works like ljust() and rjust() but centers the text rather than justifying it to the left or right. Below are some examples:"
   ]
  },
  {
   "cell_type": "code",
   "execution_count": 6,
   "metadata": {},
   "outputs": [
    {
     "name": "stdout",
     "output_type": "stream",
     "text": [
      "     Hello\n",
      "Hello---------------\n"
     ]
    }
   ],
   "source": [
    "print('Hello'.rjust(10))\n",
    "print('Hello'.ljust(20, '-'))"
   ]
  },
  {
   "cell_type": "code",
   "execution_count": 10,
   "metadata": {},
   "outputs": [
    {
     "name": "stdout",
     "output_type": "stream",
     "text": [
      "       Hello        \n",
      "=======Hello========\n"
     ]
    }
   ],
   "source": [
    "print('Hello'.center(20))\n",
    "print('Hello'.center(20, '='))"
   ]
  },
  {
   "cell_type": "markdown",
   "metadata": {},
   "source": [
    "As an example, here is a more complicated program that uses these string-associated methods. In this program, we define a printPicnic() method that will take in a dictionary of information and use center(), ljust(), and rjust() to display that information in a neatly aligned table-like format."
   ]
  },
  {
   "cell_type": "code",
   "execution_count": 7,
   "metadata": {},
   "outputs": [
    {
     "name": "stdout",
     "output_type": "stream",
     "text": [
      "---PICNIC ITEMS--\n",
      "sandwiches..    4\n",
      "apples......   12\n",
      "cups........    4\n",
      "dumplings...   80\n",
      "-------PICNIC ITEMS-------\n",
      "sandwiches..........     4\n",
      "apples..............    12\n",
      "cups................     4\n",
      "dumplings...........    80\n"
     ]
    }
   ],
   "source": [
    "def printPicnic(itemsDict, leftWidth, rightWidth):\n",
    "    print('PICNIC ITEMS'.center(leftWidth + rightWidth, '-'))\n",
    "    for k, v in itemsDict.items():\n",
    "        print(k.ljust(leftWidth, '.') + str(v).rjust(rightWidth))\n",
    "picnicItems = {'sandwiches': 4, 'apples': 12, 'cups': 4, 'dumplings': 80}\n",
    "printPicnic(picnicItems, 12, 5)\n",
    "printPicnic(picnicItems, 20, 6)"
   ]
  },
  {
   "cell_type": "markdown",
   "metadata": {
    "collapsed": true
   },
   "source": [
    "Sometimes you may want to strip off whitespace characters (space, tab, and newline) from the left side, right side, or both sides of a string. The strip() string method will return a new string without any whitespace characters at the beginning or end. This is very similar to the strip() function in SAS. The lstrip() and rstrip() methods will remove whitespace characters from the left and right ends, respectively."
   ]
  },
  {
   "cell_type": "code",
   "execution_count": 8,
   "metadata": {},
   "outputs": [
    {
     "name": "stdout",
     "output_type": "stream",
     "text": [
      "Hello World\n",
      "Hello World              \n",
      "    Hello World\n",
      "BaconSpamEggs\n"
     ]
    }
   ],
   "source": [
    "text = '    Hello World              '\n",
    "print(text.strip()) # 'Hello World'\n",
    "print(text.lstrip()) # 'Hello World '\n",
    "print(text.rstrip()) # ' Hello World'\n",
    "garbage = 'SpamSpamBaconSpamEggsSpamSpam' \n",
    "print(garbage.strip('ampS')) # a string argument can also specify which characters on the ends should be stripped"
   ]
  },
  {
   "cell_type": "code",
   "execution_count": null,
   "metadata": {
    "collapsed": true
   },
   "outputs": [],
   "source": []
  }
 ],
 "metadata": {
  "kernelspec": {
   "display_name": "Python 3",
   "language": "python",
   "name": "python3"
  },
  "language_info": {
   "codemirror_mode": {
    "name": "ipython",
    "version": 3
   },
   "file_extension": ".py",
   "mimetype": "text/x-python",
   "name": "python",
   "nbconvert_exporter": "python",
   "pygments_lexer": "ipython3",
   "version": "3.7.6"
  }
 },
 "nbformat": 4,
 "nbformat_minor": 2
}
