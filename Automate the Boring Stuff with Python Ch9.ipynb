{
 "cells": [
  {
   "cell_type": "markdown",
   "metadata": {},
   "source": [
    "In this lecture, we learn how to organize files using Python. Consider the following tasks: 1) Making copies of all PDF files (and only the PDF files) in every subfolder of a folder. 2) Removing the leading zeros in the filenames for every file in a folder of hundreds of files named 'spam001.txt', 'spam002.tx', 'spam003.txt', and so on. 3) Compressing the contents of several folders into one ZIP file (which could be a simple backup system). It turns out that all of these can be automated in Python easily. "
   ]
  },
  {
   "cell_type": "markdown",
   "metadata": {},
   "source": [
    "We first go over the 'shutil' module. The 'shutil' (or shell utilities) module has functions to let you copy, move, rename, and delete files in your Python programs. For example, the shutil module provides functions for copying files, as well as the entire folders. Calling shutil.copy(source, destination) will copy the file at the path source to the folder at the path destination (both of the arguments 'source' and 'destination' are strings here). If 'destination' is a filename, it will be used as the new name of the copied file. This function returns a string of the path of the copied file.\n",
    "\n",
    "Below are some examples. Suppose we create two text files \"spam.txt\" and \"eggs.txt\". We first create them and save them in one location. And then copy them in a different location if their corresponding file paths exist. To ensure, the file has enough time to be copied, we can let the program sleep for a specified time:"
   ]
  },
  {
   "cell_type": "code",
   "execution_count": 1,
   "metadata": {
    "collapsed": true
   },
   "outputs": [],
   "source": [
    "import shutil, os, time\n",
    "os.chdir(\"C:\\\\Users\\\\GAO\\\\Anaconda\\\\Gao_Jupyter_Notebook_Python_Codes\\\\Automate the Boring Stuff with Python\\\\Datasets and Files\")"
   ]
  },
  {
   "cell_type": "code",
   "execution_count": 9,
   "metadata": {
    "collapsed": true
   },
   "outputs": [],
   "source": [
    "f1= open(\".\\\\spam.txt\",\"w+\") # creating a file\n",
    "f1.write(\"This is a spam text file for illustrative purpose. \\nMake sure to move this file if needed. \\nThis is the end of the file.\") \n",
    "f1.close()\n",
    "f2= open(\".\\\\eggs.txt\",\"w+\")\n",
    "f2.write(\"This is a plain text file for illustrative purpose. \\nWe love eggs!\") \n",
    "f2.close()"
   ]
  },
  {
   "cell_type": "code",
   "execution_count": 4,
   "metadata": {
    "collapsed": true
   },
   "outputs": [],
   "source": [
    "if os.path.isdir('.\\\\subfolder')==False:\n",
    "    os.mkdir('.\\\\subfolder') # make a directory if the subfolder does not exist\n",
    "    time.sleep(5) # sleep for 5 seconds\n",
    "if os.path.isdir('.\\\\subfolder')==True:\n",
    "    if os.path.isfile('.\\\\spam.txt'):\n",
    "        shutil.copy('spam.txt', '.\\\\subfolder')\n",
    "        time.sleep(5) # sleep for 5 seconds\n",
    "    if os.path.isfile('.\\\\eggs.txt'):\n",
    "        shutil.copy('eggs.txt', '.\\\\subfolder\\\\eggs2.txt') # renaming the file after copying the original file to a different location\n",
    "        time.sleep(5) # sleep for 5 seconds"
   ]
  },
  {
   "cell_type": "markdown",
   "metadata": {
    "collapsed": true
   },
   "source": [
    "While shutil.copy() will copy a single file, shutil.copytree() will copy an entire folder and every folder and file contained in it. Calling shutil.copytree(source, destination) will copy the folder at the path source, along with all of its files and subfolders, to the folder at the path destination. The 'source' and 'destination' parameters are both strings. The function returns a string of the path of the copied folder. For example, you can run the command to copy all files as backups: shutil.copytree('C:\\\\bacon', 'C:\\\\bacon_backup')."
   ]
  },
  {
   "cell_type": "markdown",
   "metadata": {},
   "source": [
    "Calling shutil.move(source, destination) will move the file or folder at the path 'source' to the path 'destination' and will return a string of the absolute path of the new location. If 'destination' points to a folder, the 'source' file gets moved into 'destination' and keeps its current filename. When moving the file, you should always be overly cautious because if there already exists a file in the destination folder, the file there may be overwritten by the file that is being moved. Lastly, before moving a file from one folder to another, make sure you checked that both the file and the two folders actually exist. Otherwise, Python will throw an error."
   ]
  },
  {
   "cell_type": "code",
   "execution_count": 6,
   "metadata": {},
   "outputs": [
    {
     "data": {
      "text/plain": [
       "'.\\\\subfolder\\\\movedfile.txt'"
      ]
     },
     "execution_count": 6,
     "metadata": {},
     "output_type": "execute_result"
    }
   ],
   "source": [
    "f3= open(\".\\\\movedfile.txt\",\"w+\") # creating a file\n",
    "f3.write(\"This file is supposed to be moved!!! \\nThis is the end of the file.\") \n",
    "f3.close()\n",
    "shutil.move('.\\\\movedfile.txt', '.\\\\subfolder')"
   ]
  },
  {
   "cell_type": "markdown",
   "metadata": {},
   "source": [
    "The 'destination' path can also specify a filename. In the following example, the source file is moved and renamed:"
   ]
  },
  {
   "cell_type": "code",
   "execution_count": 7,
   "metadata": {},
   "outputs": [
    {
     "data": {
      "text/plain": [
       "'.\\\\subfolder\\\\movedfile_v2.txt'"
      ]
     },
     "execution_count": 7,
     "metadata": {},
     "output_type": "execute_result"
    }
   ],
   "source": [
    "f4= open(\".\\\\movedfile2.txt\",\"w+\") # creating a file\n",
    "f4.write(\"This file is supposed to be moved. \\nThis is the end of the file.\") \n",
    "f4.close()\n",
    "shutil.move('.\\\\movedfile2.txt', '.\\\\subfolder\\\\movedfile_v2.txt')"
   ]
  },
  {
   "cell_type": "markdown",
   "metadata": {},
   "source": [
    "Now let's do an exercise. Suppose we have a folder which contains a set of files of various extensions and perhaps subfolders inside. I want to rename all the excel files (excluding the subfolders) in that folder by adding a 'v2' subscript at the end of each file name. Below are the Python codes."
   ]
  },
  {
   "cell_type": "code",
   "execution_count": 6,
   "metadata": {},
   "outputs": [
    {
     "name": "stdout",
     "output_type": "stream",
     "text": [
      "The current file: \n",
      "C:\\Users\\GAO\\Anaconda\\Scripts\\Gao_Jupyter_Notebook_Python_Codes\\Datasets and Files\\test folder\\Sepsis_QA_v2.xlsx\n",
      "ALREADY EXISTED, NO NEED TO RENAME! \n",
      "\n",
      "The current file: \n",
      "C:\\Users\\GAO\\Anaconda\\Scripts\\Gao_Jupyter_Notebook_Python_Codes\\Datasets and Files\\test folder\\sepsis_Qtr4_v2.xlsx\n",
      "ALREADY EXISTED, NO NEED TO RENAME! \n",
      "\n",
      "The current file: \n",
      "C:\\Users\\GAO\\Anaconda\\Scripts\\Gao_Jupyter_Notebook_Python_Codes\\Datasets and Files\\test folder\\warfin_Qtr4_v2.xlsx\n",
      "ALREADY EXISTED, NO NEED TO RENAME! \n",
      "\n"
     ]
    }
   ],
   "source": [
    "defaultpath='C:\\\\Users\\\\GAO\\\\Anaconda\\\\Scripts\\\\Gao_Jupyter_Notebook_Python_Codes\\\\Datasets and Files\\\\test folder'\n",
    "for filename in os.listdir(defaultpath):\n",
    "    if filename.endswith(\".xlsx\"):\n",
    "        oldfilename=str(defaultpath+\"\\\\\"+filename)\n",
    "        if oldfilename[-8:] != '_v2.xlsx':\n",
    "            newfilename = str(filename[:-5])+'_v2.xlsx'\n",
    "            newfilename=str(defaultpath+\"\\\\\"+newfilename)\n",
    "            os.rename(oldfilename, newfilename)\n",
    "        else:\n",
    "            print('The current file: \\n'+ oldfilename + '\\nALREADY EXISTED, NO NEED TO RENAME! \\n')     "
   ]
  },
  {
   "cell_type": "markdown",
   "metadata": {},
   "source": [
    "We now study how to delete files. To start with, we can delete a single file or a single empty folder with functions in the 'os' module, whereas to delete a folder and all of its contents, we use the 'shutil' module. Calling os.unlink(path) will delete the files at 'path'. Calling os.rmdir(path) will delete the folders at 'path'. This folder must be empty of any files or folders. Calling shutil.rmtree(path) will remove the folder at path, and all files and folders it contains will also be deleted.\n",
    "\n",
    "It is very important to be careful when using these functions in any programs! It’s often a good idea to first run the program with these calls commented out and with print() calls added to show the files that would be deleted."
   ]
  },
  {
   "cell_type": "code",
   "execution_count": 8,
   "metadata": {
    "collapsed": true
   },
   "outputs": [],
   "source": [
    "os.unlink('.\\\\subfolder\\\\eggs2.txt')"
   ]
  },
  {
   "cell_type": "markdown",
   "metadata": {},
   "source": [
    "Since Python’s built-in shutil.rmtree() function irreversibly deletes files and folders, it can be dangerous to use. \n",
    "A much better way to delete files and folders is with the thirdparty send2trash module. You can install this module by\n",
    "running pip install 'send2trash' from a Terminal window.\n",
    "\n",
    "Using 'send2trash' is much safer than Python’s regular delete functions, because it will send folders and files to your computer’s trash or recycle bin instead of permanently deleting them. If a bug in your program deletes something with 'send2trash' you didn’t intend to delete, you can later restore it from the recycle bin. For example, the command send2trash.send2trash('bacon.txt') will delete the text file 'bacon.txt'.\n",
    "\n",
    "In general, you should always use the send2trash.send2trash() function to delete files and folders. But while sending files to the recycle bin lets you recover them later, it will not free up disk space like permanently deleting them does. If you want your program to free up disk space, use the os and shutil functions for deleting files and folders. Note that the send2trash() function can only send files to the recycle bin; it cannot pull files out of it."
   ]
  },
  {
   "cell_type": "markdown",
   "metadata": {},
   "source": [
    "We now create a harder problem. Say you want to rename every file in some folder and also every file in every subfolder of that folder. That is, you want to walk through the directory tree, touching each file as you go. Writing a program to do this could get tricky. Fortunately, Python provides a function to handle this process for you.\n",
    "\n",
    "To achieve this task, we can invoke the os.walk() function. The os.walk() function is passed a single string value: the path of a folder. You can use os.walk() in a for loop statement to walk a directory tree, much like how you can use the range() function to walk over a range of numbers. Unlike range(), the os.walk() function will return three values on each iteration through the loop: 1) A string of the current folder’s name ('current folder' here means the folder for the current iteration of the for loop. The current working directory of the program is not changed by the os.walk() function). 2) A list of strings of the folders in the current folder. 3) A list of strings of the files in the current folder.\n"
   ]
  },
  {
   "cell_type": "code",
   "execution_count": 8,
   "metadata": {},
   "outputs": [
    {
     "name": "stdout",
     "output_type": "stream",
     "text": [
      "The current folder is C:\\Users\\GAO\\Anaconda\\Scripts\\Gao_Jupyter_Notebook_Python_Codes\\Datasets and Files\n",
      "\n",
      "  subfolder of C:\\Users\\GAO\\Anaconda\\Scripts\\Gao_Jupyter_Notebook_Python_Codes\\Datasets and Files: backup folder test\n",
      "  subfolder of C:\\Users\\GAO\\Anaconda\\Scripts\\Gao_Jupyter_Notebook_Python_Codes\\Datasets and Files: subfolder\n",
      "  subfolder of C:\\Users\\GAO\\Anaconda\\Scripts\\Gao_Jupyter_Notebook_Python_Codes\\Datasets and Files: test folder\n",
      "  file inside C:\\Users\\GAO\\Anaconda\\Scripts\\Gao_Jupyter_Notebook_Python_Codes\\Datasets and Files: eggs.txt\n",
      "  file inside C:\\Users\\GAO\\Anaconda\\Scripts\\Gao_Jupyter_Notebook_Python_Codes\\Datasets and Files: newzip.zip\n",
      "  file inside C:\\Users\\GAO\\Anaconda\\Scripts\\Gao_Jupyter_Notebook_Python_Codes\\Datasets and Files: spam.txt\n",
      "  file inside C:\\Users\\GAO\\Anaconda\\Scripts\\Gao_Jupyter_Notebook_Python_Codes\\Datasets and Files: zipexample.zip\n",
      "\n",
      "The current folder is C:\\Users\\GAO\\Anaconda\\Scripts\\Gao_Jupyter_Notebook_Python_Codes\\Datasets and Files\\backup folder test\n",
      "\n",
      "\n",
      "The current folder is C:\\Users\\GAO\\Anaconda\\Scripts\\Gao_Jupyter_Notebook_Python_Codes\\Datasets and Files\\subfolder\n",
      "\n",
      "  file inside C:\\Users\\GAO\\Anaconda\\Scripts\\Gao_Jupyter_Notebook_Python_Codes\\Datasets and Files\\subfolder: movedfile.txt\n",
      "  file inside C:\\Users\\GAO\\Anaconda\\Scripts\\Gao_Jupyter_Notebook_Python_Codes\\Datasets and Files\\subfolder: movedfile_v2.txt\n",
      "  file inside C:\\Users\\GAO\\Anaconda\\Scripts\\Gao_Jupyter_Notebook_Python_Codes\\Datasets and Files\\subfolder: spam.txt\n",
      "\n",
      "The current folder is C:\\Users\\GAO\\Anaconda\\Scripts\\Gao_Jupyter_Notebook_Python_Codes\\Datasets and Files\\test folder\n",
      "\n",
      "  subfolder of C:\\Users\\GAO\\Anaconda\\Scripts\\Gao_Jupyter_Notebook_Python_Codes\\Datasets and Files\\test folder: test_folder_sub\n",
      "  file inside C:\\Users\\GAO\\Anaconda\\Scripts\\Gao_Jupyter_Notebook_Python_Codes\\Datasets and Files\\test folder: eggs.txt\n",
      "  file inside C:\\Users\\GAO\\Anaconda\\Scripts\\Gao_Jupyter_Notebook_Python_Codes\\Datasets and Files\\test folder: Hypoglycemia_Completeness_v2.xlsx\n",
      "  file inside C:\\Users\\GAO\\Anaconda\\Scripts\\Gao_Jupyter_Notebook_Python_Codes\\Datasets and Files\\test folder: Hypoglycemia_QA_v2.xlsx\n",
      "  file inside C:\\Users\\GAO\\Anaconda\\Scripts\\Gao_Jupyter_Notebook_Python_Codes\\Datasets and Files\\test folder: hypoglycemia_Qtr4_v2.xlsx\n",
      "  file inside C:\\Users\\GAO\\Anaconda\\Scripts\\Gao_Jupyter_Notebook_Python_Codes\\Datasets and Files\\test folder: Sepsis_Completeness_v2.xlsx\n",
      "  file inside C:\\Users\\GAO\\Anaconda\\Scripts\\Gao_Jupyter_Notebook_Python_Codes\\Datasets and Files\\test folder: Sepsis_QA_v2.xlsx\n",
      "  file inside C:\\Users\\GAO\\Anaconda\\Scripts\\Gao_Jupyter_Notebook_Python_Codes\\Datasets and Files\\test folder: sepsis_Qtr4_v2.xlsx\n",
      "  file inside C:\\Users\\GAO\\Anaconda\\Scripts\\Gao_Jupyter_Notebook_Python_Codes\\Datasets and Files\\test folder: spam.txt\n",
      "  file inside C:\\Users\\GAO\\Anaconda\\Scripts\\Gao_Jupyter_Notebook_Python_Codes\\Datasets and Files\\test folder: warfin_Qtr4_v2.xlsx\n",
      "\n",
      "The current folder is C:\\Users\\GAO\\Anaconda\\Scripts\\Gao_Jupyter_Notebook_Python_Codes\\Datasets and Files\\test folder\\test_folder_sub\n",
      "\n",
      "  file inside C:\\Users\\GAO\\Anaconda\\Scripts\\Gao_Jupyter_Notebook_Python_Codes\\Datasets and Files\\test folder\\test_folder_sub: experimental file 2.xlsx\n",
      "  file inside C:\\Users\\GAO\\Anaconda\\Scripts\\Gao_Jupyter_Notebook_Python_Codes\\Datasets and Files\\test folder\\test_folder_sub: experimental file.xlsx\n",
      "  file inside C:\\Users\\GAO\\Anaconda\\Scripts\\Gao_Jupyter_Notebook_Python_Codes\\Datasets and Files\\test folder\\test_folder_sub: spam3.txt\n",
      "\n"
     ]
    }
   ],
   "source": [
    "fpath='C:\\\\Users\\\\GAO\\\\Anaconda\\\\Scripts\\\\Gao_Jupyter_Notebook_Python_Codes\\\\Datasets and Files'\n",
    "for folderName, subfolders, filenames in os.walk(fpath):\n",
    "    print('The current folder is ' + folderName + '\\n')\n",
    "    for subfolder in subfolders:\n",
    "        print('  subfolder of ' + folderName + ': ' + subfolder)\n",
    "    for filename in filenames:\n",
    "        print('  file inside ' + folderName + ': '+ filename)\n",
    "    print('')"
   ]
  },
  {
   "cell_type": "markdown",
   "metadata": {},
   "source": [
    "Since os.walk() returns lists of strings for the subfolder and filename variables, you can use these lists in their own for loops. You may replace the print() function calls with your own custom code."
   ]
  },
  {
   "cell_type": "markdown",
   "metadata": {},
   "source": [
    "Now let's learn how to compress files. You may be familiar with ZIP files (with the .zip file extension), which\n",
    "can hold the compressed contents of many other files. Your Python programs can both create and open (or extract) ZIP files using functions in the zipfile module.\n",
    "\n",
    "To read the contents of a ZIP file, first you must create a 'ZipFile' object (note the capital letters Z and F). 'ZipFile' objects are conceptually similar to the 'File' objects returned by the open() function: they are values through which the program interacts with the file. To create a 'ZipFile' object, call the zipfile.ZipFile() function, passing it a string of the '.zip' file’s filename. Note that 'zipfile' is the name of the Python module, and ZipFile() is the name of the function.\n",
    "\n",
    "Below is an example that shows how to use Python to obtain information about zip file. Suppose you have a zip file that contains many files and subfolders within. Suppose you want to know the overall information about the zip file and one of the file within.  "
   ]
  },
  {
   "cell_type": "code",
   "execution_count": 9,
   "metadata": {},
   "outputs": [
    {
     "name": "stdout",
     "output_type": "stream",
     "text": [
      "These are the individual files and folders within the current zip file: \n",
      "['spam.txt', 'cats/', 'cats/catnames.txt', 'cats/zophie.jpg']\n",
      "\n",
      "This single file within the zip file originally has 13908 KB\n",
      "After compression, it has 3828 KB\n",
      "Compressed file is 3.63x smaller!\n"
     ]
    }
   ],
   "source": [
    "import zipfile\n",
    "filedir='C:\\\\Users\\\\GAO\\\\Anaconda\\\\Scripts\\\\Gao_Jupyter_Notebook_Python_Codes\\\\Datasets and Files' # zip file location\n",
    "fname='zipexample.zip' # zip file name\n",
    "fzip='spam.txt' # file name within the zip file\n",
    "\n",
    "os.chdir(filedir) # move to the folder with the zip file 'example.zip'\n",
    "exampleZip = zipfile.ZipFile(fname)\n",
    "print('These are the individual files and folders within the current zip file: \\n' + str(exampleZip.namelist()) + '\\n')\n",
    "spamInfo = exampleZip.getinfo(fzip) # getting information within the zip file\n",
    "print('This single file within the zip file originally has '+ str(spamInfo.file_size) + ' KB')\n",
    "print('After compression, it has ' + str(spamInfo.compress_size) + ' KB')\n",
    "print('Compressed file is %sx smaller!' % (round(spamInfo.file_size / spamInfo.compress_size, 2)))\n",
    "exampleZip.close()"
   ]
  },
  {
   "cell_type": "markdown",
   "metadata": {},
   "source": [
    "We can now revise our previous program to create an independent mini-program now to get the zip file information for every single file and subfolder in the zip file. Once you specify the path of the zip file and the name of the zip file, we can get their file size information for each file and subfolder in that particular zip file:"
   ]
  },
  {
   "cell_type": "code",
   "execution_count": 10,
   "metadata": {},
   "outputs": [
    {
     "name": "stdout",
     "output_type": "stream",
     "text": [
      "These are the individual files and folders within the current zip file: \n",
      "['spam.txt', 'cats/', 'cats/catnames.txt', 'cats/zophie.jpg']\n",
      "\n",
      "-----------------------------------------------------------------------\n",
      "\n",
      "spam.txt\n",
      "Original Size of 13908 KB\n",
      "After compression, it has 3828 KB\n",
      "Compressed file is 3.63x smaller!\n",
      "\n",
      "cats/\n",
      "Original Size of 0 KB\n",
      "After compression, it has 0 KB\n",
      "The original file/folder is 0KB already, nothing to be compressed\n",
      "\n",
      "cats/catnames.txt\n",
      "Original Size of 221 KB\n",
      "After compression, it has 162 KB\n",
      "Compressed file is 1.36x smaller!\n",
      "\n",
      "cats/zophie.jpg\n",
      "Original Size of 380218 KB\n",
      "After compression, it has 378259 KB\n",
      "Compressed file is 1.01x smaller!\n",
      "\n"
     ]
    }
   ],
   "source": [
    "filedir='C:\\\\Users\\\\GAO\\\\Anaconda\\\\Scripts\\\\Gao_Jupyter_Notebook_Python_Codes\\\\Datasets and Files' # zip file location\n",
    "fname='zipexample.zip' # zip file name\n",
    "\n",
    "os.chdir(filedir) # move to the folder with the zip file 'example.zip'\n",
    "exampleZip = zipfile.ZipFile(fname)\n",
    "print('These are the individual files and folders within the current zip file: \\n' + str(exampleZip.namelist()))\n",
    "print('\\n-----------------------------------------------------------------------\\n')\n",
    "\n",
    "flist=exampleZip.namelist()\n",
    "for i in flist:\n",
    "    fileinzip = exampleZip.getinfo(i) # getting information within the zip file\n",
    "    print(fileinzip.filename)\n",
    "    print('Original Size of ' + str(fileinzip.file_size) + ' KB')\n",
    "    print('After compression, it has ' + str(fileinzip.compress_size) + ' KB')\n",
    "    try:\n",
    "        print('Compressed file is %sx smaller!' % (round(fileinzip.file_size / fileinzip.compress_size, 2)))\n",
    "    except ZeroDivisionError:\n",
    "        print('The original file/folder is 0KB already, nothing to be compressed')\n",
    "    print('')\n",
    "    exampleZip.close()"
   ]
  },
  {
   "cell_type": "markdown",
   "metadata": {},
   "source": [
    "We now study how to create a zip file and add/extract additional file in a given zip file. First, the extractall() method for ZipFile objects extracts all the files and folders from a zip file into the current working directory."
   ]
  },
  {
   "cell_type": "code",
   "execution_count": 11,
   "metadata": {
    "collapsed": true
   },
   "outputs": [],
   "source": [
    "os.chdir(\"C:\\\\Users\\\\GAO\\\\Anaconda\\\\Scripts\\\\Gao_Jupyter_Notebook_Python_Codes\\\\Datasets and Files\") # move to the folder with example.zip\n",
    "exampleZip = zipfile.ZipFile('zipexample.zip')\n",
    "exampleZip.extractall()\n",
    "exampleZip.close()"
   ]
  },
  {
   "cell_type": "markdown",
   "metadata": {},
   "source": [
    "After running this code, the contents of the zip file will be extracted to the designated directory. Optionally, you can pass a folder name to extractall() to have it extract the files into a folder other than the current working directory. If the folder passed to the extractall() method does not exist, it will be created. For instance, if you replaced the call with exampleZip.extractall('C:\\\\blahblah'), the code would extract the files from the original zip file into a newly created C:\\blahlbah folder."
   ]
  },
  {
   "cell_type": "markdown",
   "metadata": {},
   "source": [
    "To create your own compressed zip files, you must open the 'ZipFile' object in write mode by passing 'w' as the second argument (this is similar to opening a text file in write mode by passing 'w' to the open() function). When you pass a path to the write() method of a 'ZipFile' object, Python will compress the file at that path and add it into the zip file. The write() method’s first argument is a string of the filename to add. The second argument is the compression type parameter, which tells the computer what algorithm it should use to compress the files. You can always just set this value to zipfile.ZIP_DEFLATED (this specifies the deflate compression algorithm, which works well on all types of data):"
   ]
  },
  {
   "cell_type": "code",
   "execution_count": 12,
   "metadata": {
    "collapsed": true
   },
   "outputs": [],
   "source": [
    "newZip = zipfile.ZipFile('newzip.zip', 'w')\n",
    "newZip.write('eggs.txt', compress_type=zipfile.ZIP_DEFLATED)\n",
    "newZip.close()"
   ]
  },
  {
   "cell_type": "markdown",
   "metadata": {
    "collapsed": true
   },
   "source": [
    "Keep in mind that, just as with writing to files, write mode will erase all existing contents of a zip file. If you want to simply add files to an existing ZIP file, pass 'a' as the second argument to zipfile.ZipFile() to open the zip file in 'append' mode."
   ]
  },
  {
   "cell_type": "code",
   "execution_count": null,
   "metadata": {
    "collapsed": true
   },
   "outputs": [],
   "source": []
  }
 ],
 "metadata": {
  "kernelspec": {
   "display_name": "Python 3",
   "language": "python",
   "name": "python3"
  },
  "language_info": {
   "codemirror_mode": {
    "name": "ipython",
    "version": 3
   },
   "file_extension": ".py",
   "mimetype": "text/x-python",
   "name": "python",
   "nbconvert_exporter": "python",
   "pygments_lexer": "ipython3",
   "version": "3.6.3"
  }
 },
 "nbformat": 4,
 "nbformat_minor": 2
}
