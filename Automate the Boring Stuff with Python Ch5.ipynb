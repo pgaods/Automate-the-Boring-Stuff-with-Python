{
 "cells": [
  {
   "cell_type": "markdown",
   "metadata": {},
   "source": [
    "We now study another type of data called dictionaries. Like a list, a dictionary is a collection of many values. But unlike indexes for lists, indexes for dictionaries can use many different data types, not just integers. Indexes for dictionaries are called keys, and a key with its associated value is called a key-value pair. Dictionaries are indicated by the curly brackets \"{}\"."
   ]
  },
  {
   "cell_type": "code",
   "execution_count": 1,
   "metadata": {},
   "outputs": [
    {
     "name": "stdout",
     "output_type": "stream",
     "text": [
      "{'size': 'fat', 'color': 'gray', 'disposition': 'loud'}\n",
      "The size of my cat is: fat\n"
     ]
    }
   ],
   "source": [
    "myCat = {'size': 'fat', 'color': 'gray', 'disposition': 'loud'}\n",
    "print(myCat)\n",
    "print(\"The size of my cat is: \" + myCat['size'])"
   ]
  },
  {
   "cell_type": "markdown",
   "metadata": {},
   "source": [
    "Unlike lists, items in dictionaries are unordered. For example, the first item in a list named 'spam' would be spam[0]. But there is no “first” item in a dictionary. While the order of items matters for determining whether two lists are the same, it does not matter in what order the 'keyvalue' pairs are typed in a dictionary. Meanwhile, because dictionaries are not ordered, they can’t be sliced like lists."
   ]
  },
  {
   "cell_type": "code",
   "execution_count": 2,
   "metadata": {},
   "outputs": [
    {
     "data": {
      "text/plain": [
       "True"
      ]
     },
     "execution_count": 2,
     "metadata": {},
     "output_type": "execute_result"
    }
   ],
   "source": [
    "eggs = {'name': 'Zophie', 'species': 'cat', 'age': '8'}\n",
    "ham = {'species': 'cat', 'age': '8', 'name': 'Zophie'}\n",
    "eggs == ham # this will show 'True' because order does not matter for dictionaries"
   ]
  },
  {
   "cell_type": "markdown",
   "metadata": {},
   "source": [
    "Trying to access a key that does not exist in a dictionary will result in a KeyError error\n",
    "message, much like a list’s “out-of-range” IndexError error message."
   ]
  },
  {
   "cell_type": "markdown",
   "metadata": {},
   "source": [
    "Though dictionaries are not ordered, the fact that you can have arbitrary values for the keys allows you to organize your data in powerful ways. Say you want your program to store data about your friends’ birthdays. You can use a dictionary with the names as keys and the birthdays as values."
   ]
  },
  {
   "cell_type": "code",
   "execution_count": 1,
   "metadata": {},
   "outputs": [
    {
     "name": "stdout",
     "output_type": "stream",
     "text": [
      "Enter a name: (blank to quit)\n",
      "Alice\n",
      "Apr 1 is the birthday of Alice\n",
      "\n",
      "Enter a name: (blank to quit)\n",
      "Bob\n",
      "Dec 12 is the birthday of Bob\n",
      "\n",
      "Enter a name: (blank to quit)\n",
      "Peter\n",
      "I do not have birthday information for Peter\n",
      "What is his or her birthday?\n",
      "Aug 18\n",
      "Birthday database updated.\n",
      "\n",
      "Enter a name: (blank to quit)\n",
      "Peter\n",
      "Aug 18 is the birthday of Peter\n",
      "\n",
      "Enter a name: (blank to quit)\n",
      "\n"
     ]
    }
   ],
   "source": [
    "birthdays = {'Alice': 'Apr 1', 'Bob': 'Dec 12', 'Carol': 'Mar 4'}\n",
    "while True:\n",
    "    print('Enter a name: (blank to quit)')\n",
    "    name = input()\n",
    "    if name == '':\n",
    "        break\n",
    "    if name in birthdays:\n",
    "        print(birthdays[name] + ' is the birthday of ' + name)\n",
    "        print('')\n",
    "    else:\n",
    "        print('I do not have birthday information for ' + name)\n",
    "        print('What is his or her birthday?')\n",
    "        bday = input()\n",
    "        birthdays[name] = bday\n",
    "        print('Birthday database updated.\\n')"
   ]
  },
  {
   "cell_type": "markdown",
   "metadata": {},
   "source": [
    "There are three dictionary methods that will return list-like values of the dictionary’s keys, values, or both keys and values: keys(), values(), and items(). The values returned by these methods are not true lists: they cannot be modified and do not have an append() method. But these data types (dict_keys, dict_values, and dict_items, respectively) can be used in for loops. Below is an example: "
   ]
  },
  {
   "cell_type": "code",
   "execution_count": 2,
   "metadata": {},
   "outputs": [
    {
     "name": "stdout",
     "output_type": "stream",
     "text": [
      "using values(): red\n",
      "using values(): 42\n",
      "using values(): round\n",
      "using keys(): red\n",
      "using keys(): 42\n",
      "using keys(): round\n",
      "using items():('color', 'red')\n",
      "using items():('age', 42)\n",
      "using items():('shape', 'round')\n",
      "dict_keys(['color', 'age', 'shape'])\n",
      "['color', 'age', 'shape']\n"
     ]
    }
   ],
   "source": [
    "dict = {'color': 'red', 'age': 42, 'shape': 'round'}\n",
    "for v in dict.values():\n",
    "    print(\"using values(): \" + str(v))\n",
    "for k in dict.keys():\n",
    "    print(\"using keys(): \" + str(dict[k]))\n",
    "for i in dict.items():\n",
    "    print(\"using items():\" + str(i)) # the outputs of these are tuples\n",
    "print(dict.keys())\n",
    "print(list(dict.keys())) # if you want a true list, you can pass its list-like return value to the list() function"
   ]
  },
  {
   "cell_type": "markdown",
   "metadata": {},
   "source": [
    "You can also use the multiple assignment trick in a 'for' loop to assign the key and value to separate variables."
   ]
  },
  {
   "cell_type": "code",
   "execution_count": 3,
   "metadata": {},
   "outputs": [
    {
     "name": "stdout",
     "output_type": "stream",
     "text": [
      "Key-color Value: red\n",
      "Key-age Value: 42\n",
      "Key-gender Value: F\n"
     ]
    }
   ],
   "source": [
    "dict2 = {'color': 'red', 'age': 42, 'gender': 'F'}\n",
    "for k, v in dict2.items():\n",
    "    print('Key-' + k + ' Value: ' + str(v))"
   ]
  },
  {
   "cell_type": "markdown",
   "metadata": {},
   "source": [
    "Recall that the 'in' and 'not in' operators can check whether a value exists in a list. You can also use these operators to see whether a certain key or value exists in a dictionary."
   ]
  },
  {
   "cell_type": "code",
   "execution_count": 4,
   "metadata": {},
   "outputs": [
    {
     "name": "stdout",
     "output_type": "stream",
     "text": [
      "True\n",
      "True\n",
      "False\n",
      "True\n",
      "False\n"
     ]
    }
   ],
   "source": [
    "spam = {'name': 'Zophie', 'age': 7}\n",
    "print('name' in spam.keys())\n",
    "print('Zophie' in spam.values())\n",
    "print('color' in spam.keys())\n",
    "print('color' not in spam.keys())\n",
    "print('color' in spam)"
   ]
  },
  {
   "cell_type": "markdown",
   "metadata": {},
   "source": [
    "It’s tedious to check whether a key exists in a dictionary before accessing that key’s value. Fortunately, dictionaries have a get() method that takes two arguments: the key of the value to retrieve and a fallback value to return if that key does not exist. As an example from below, since the dictionary 'picnicItems' does not have a key called 'eggs', we can invoke the get() method to default that value to 0.  "
   ]
  },
  {
   "cell_type": "code",
   "execution_count": 5,
   "metadata": {},
   "outputs": [
    {
     "name": "stdout",
     "output_type": "stream",
     "text": [
      "I am bringing 2 cups.\n",
      "I am bringing 0 eggs.\n"
     ]
    }
   ],
   "source": [
    "picnicItems = {'apples': 5, 'cups': 2}\n",
    "print('I am bringing ' + str(picnicItems.get('cups', 0)) + ' cups.')\n",
    "print('I am bringing ' + str(picnicItems.get('eggs', 0)) + ' eggs.')"
   ]
  },
  {
   "cell_type": "markdown",
   "metadata": {},
   "source": [
    "Another important trick related to dictionaries is the setdefault() method. In many applications, you’ll often have to set a value in a dictionary for a certain key only if that key does not already have a value. In that case, you may need to use a 'if' statement to hardcode the value when it does not exist. The setdefault() method offers a way to do this in one line of code. The first argument passed to the method is the key to check for, and the second argument is the value to set at that key if the key does not exist. If the key does exist, the setdefault() method returns the key’s value. As an example below, the two sets of code achieve the same result. But the second example that uses the setdefault() method is more simple and elegant. Essentially, the setdefault() method is a nice shortcut to ensure that a key exists."
   ]
  },
  {
   "cell_type": "code",
   "execution_count": 6,
   "metadata": {},
   "outputs": [
    {
     "name": "stdout",
     "output_type": "stream",
     "text": [
      "{'name': 'Pooka', 'age': 5, 'color': 'black'}\n",
      "{'name': 'Pooka', 'age': 5, 'color': 'white'}\n"
     ]
    }
   ],
   "source": [
    "spam = {'name': 'Pooka', 'age': 5}\n",
    "if 'color' not in spam:\n",
    "    spam['color'] = 'black'\n",
    "print(spam)\n",
    "\n",
    "spam2={'name': 'Pooka', 'age': 5}\n",
    "spam2.setdefault('color', 'white')\n",
    "print(spam2)"
   ]
  },
  {
   "cell_type": "markdown",
   "metadata": {},
   "source": [
    "Here is another example for the setdefault() method for dictionaries. Below is a short program that counts the number of occurrences of each letter in a string. The program loops over each 'character' in the 'message' variable’s string, counting how often each character appears. The setdefault() method call ensures that the key is in the 'count' dictionary (with a default value of 0) so the program doesn’t throw a 'KeyError' error during execution. "
   ]
  },
  {
   "cell_type": "code",
   "execution_count": 9,
   "metadata": {},
   "outputs": [
    {
     "name": "stdout",
     "output_type": "stream",
     "text": [
      "{'I': 1, 't': 4, ' ': 13, 'w': 2, 'a': 4, 's': 3, 'b': 1, 'r': 4, 'i': 5, 'g': 2, 'h': 2, 'c': 3, 'o': 2, 'l': 3, 'd': 3, 'y': 1, 'n': 3, 'A': 1, 'p': 1, ',': 1, 'e': 3, 'k': 2, '1': 1, '3': 1}\n"
     ]
    }
   ],
   "source": [
    "message = 'It was a bright cold day in April, and the clocks were striking 13'\n",
    "count = {}\n",
    "for character in message:\n",
    "    count.setdefault(character, 0)\n",
    "    count[character] = count[character] + 1\n",
    "print(count)"
   ]
  },
  {
   "cell_type": "markdown",
   "metadata": {},
   "source": [
    "Now, notice that your printing of the dictionary could be quite ugly once your dictionary becomes very large. To solve this problem, Python has a module you can invoke. If you import the 'pprint' module into your programs, you’ll have access to the pprint() and pformat() functions that will “pretty print” a dictionary’s values. This is helpful when\n",
    "you want a cleaner display of the items in a dictionary than what print() provides."
   ]
  },
  {
   "cell_type": "code",
   "execution_count": 10,
   "metadata": {},
   "outputs": [
    {
     "name": "stdout",
     "output_type": "stream",
     "text": [
      "{' ': 13,\n",
      " ',': 1,\n",
      " '.': 1,\n",
      " 'A': 1,\n",
      " 'I': 1,\n",
      " 'a': 4,\n",
      " 'b': 1,\n",
      " 'c': 3,\n",
      " 'd': 3,\n",
      " 'e': 5,\n",
      " 'g': 2,\n",
      " 'h': 3,\n",
      " 'i': 6,\n",
      " 'k': 2,\n",
      " 'l': 3,\n",
      " 'n': 4,\n",
      " 'o': 2,\n",
      " 'p': 1,\n",
      " 'r': 5,\n",
      " 's': 3,\n",
      " 't': 6,\n",
      " 'w': 2,\n",
      " 'y': 1}\n"
     ]
    }
   ],
   "source": [
    "import pprint\n",
    "message = 'It was a bright cold day in April, and the clocks were striking thirteen.'\n",
    "count = {}\n",
    "for character in message:\n",
    "    count.setdefault(character, 0)\n",
    "    count[character] = count[character] + 1\n",
    "pprint.pprint(count)"
   ]
  },
  {
   "cell_type": "markdown",
   "metadata": {},
   "source": [
    "As you build more complicated objects in Python, you may find you need dictionaries and lists that contain other dictionaries and lists. Lists are useful to contain an ordered series of values, and dictionaries are useful for associating keys with values. \n",
    "\n",
    "For example, here’s a program that uses a dictionary that contains other dictionaries in order to see who is bringing what to a picnic. In the example below, the user-defined totalBrought() function can read this data structure and calculate the total number of an item being brought by all the guests. Inside the totalBrought() function, the 'for' loop iterates over the key-value pairs. Inside the loop, the string of the guest’s name is assigned to 'k', and the dictionary of picnic items they’re bringing is assigned to 'v'. If the item parameter does exist as a key in this dictionary, it’s value (the quantity) is added to 'numBrought'. If it does not exist as a key, the get() method returns 0 to be added to numBrought."
   ]
  },
  {
   "cell_type": "code",
   "execution_count": 11,
   "metadata": {},
   "outputs": [
    {
     "name": "stdout",
     "output_type": "stream",
     "text": [
      "Number of things being brought:\n",
      " - Apples 7\n",
      " - Cups 3\n",
      " - Cakes 0\n",
      " - Sandwiches 3\n",
      " - Pears 1\n"
     ]
    }
   ],
   "source": [
    "allGuests = {'Amy': {'apples': 5, 'chips': 12}, 'Bob': {'sandwiches': 3, 'apples': 2}, 'Ed': {'cups': 3, 'pears': 1}}\n",
    "def totalBrought(guests, item):\n",
    "    numBrought = 0\n",
    "    for k, v in guests.items():\n",
    "        numBrought = numBrought + v.get(item, 0)\n",
    "    return numBrought\n",
    "print('Number of things being brought:')\n",
    "print(' - Apples ' + str(totalBrought(allGuests, 'apples')))\n",
    "print(' - Cups ' + str(totalBrought(allGuests, 'cups')))\n",
    "print(' - Cakes ' + str(totalBrought(allGuests, 'cakes')))\n",
    "print(' - Sandwiches ' + str(totalBrought(allGuests, 'sandwiches')))\n",
    "print(' - Pears ' + str(totalBrought(allGuests, 'pears')))"
   ]
  },
  {
   "cell_type": "markdown",
   "metadata": {},
   "source": [
    "Although passing around references is often the handiest way to deal with object types such as lists and dictionaries, if the function modifies the list or dictionary that is passed, you may not want these changes in the original list or dictionary value. For this, Python provides a module named 'copy' that provides both the copy() and deepcopy() functions. The first of these can be used to make a duplicate copy of a mutable value like a list or dictionary, not just a copy of a reference."
   ]
  },
  {
   "cell_type": "code",
   "execution_count": 12,
   "metadata": {},
   "outputs": [
    {
     "name": "stdout",
     "output_type": "stream",
     "text": [
      "['A', 42, 'C', 'D']\n"
     ]
    }
   ],
   "source": [
    "import copy\n",
    "ltr = ['A', 'B', 'C', 'D']\n",
    "cheese = copy.copy(ltr)\n",
    "cheese[1] = 42\n",
    "print(cheese) # this way you don't accidentally modify the 'ltr' object"
   ]
  },
  {
   "cell_type": "code",
   "execution_count": null,
   "metadata": {
    "collapsed": true
   },
   "outputs": [],
   "source": []
  }
 ],
 "metadata": {
  "kernelspec": {
   "display_name": "Python 3",
   "language": "python",
   "name": "python3"
  },
  "language_info": {
   "codemirror_mode": {
    "name": "ipython",
    "version": 3
   },
   "file_extension": ".py",
   "mimetype": "text/x-python",
   "name": "python",
   "nbconvert_exporter": "python",
   "pygments_lexer": "ipython3",
   "version": "3.6.3"
  }
 },
 "nbformat": 4,
 "nbformat_minor": 2
}
