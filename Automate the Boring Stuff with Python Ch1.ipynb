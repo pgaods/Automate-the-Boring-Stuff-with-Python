{
 "cells": [
  {
   "cell_type": "markdown",
   "metadata": {},
   "source": [
    "In this series of Python manusscripts, we would like to study how to use Python to automate some of the boring jobs we do every day. To start with, you will need to install the Python on your local computer together with the Jupyter notebook. Once this is done, you can find the 'exe' file to launch the Jupyter notebook. The exe file 'jupyter-notebook.exe' will help open a Jupyter notebook for Python and you are welcome to pin that file to the Windows 'Start' task bars. \n",
    "\n",
    "If you are a corporate network, the path at which you should save all of your Python code should be in one location. Usually the IT department will help you manage this."
   ]
  },
  {
   "cell_type": "markdown",
   "metadata": {},
   "source": [
    "The textbook we will be using is 'Automate the boring stuff with Python' by Al Steigart. The book has its own website which contains all the errata: http://inventwithpython.com/. The book is written for Python version 3.3 at that point. Notice that this book is a little outdated but still serves as a brilliant introduction to Pythonic automation. The second half of the book according to some of the Amazon reviews needs significant revisions due to updated packages and modules. Nevertheless, we will follow the structure of the book closely and add useful information whenever possible. \n",
    "\n",
    "The textbook is very suitable for beginners. According to the author:\n",
    "\n",
    "\"This book is not designed as a reference manual; it’s a guide for beginners. The coding\n",
    "style sometimes goes against best practices (for example, some programs use global\n",
    "variables), but that’s a trade-off to make the code simpler to learn. This book is made for\n",
    "people to write throwaway code, so there’s not much time spent on style and elegance.\n",
    "Sophisticated programming concepts — like object-oriented programming, list\n",
    "comprehensions, and generators — aren’t covered because of the complexity they add.\n",
    "Veteran programmers may point out ways the code in this book could be changed to\n",
    "improve efficiency, but this book is mostly concerned with getting programs to work with\n",
    "the least amount of effort.\"\n",
    "\n",
    "The book encourages the reader to use the Python interative shell. We will use the jupyter notebook to take notes. You may run the interactive shell by launching IDLE. To do so on Windows, open the Start menu, select All Programs > Python 3.3, and\n",
    "then select IDLE (Python GUI)."
   ]
  },
  {
   "cell_type": "markdown",
   "metadata": {},
   "source": [
    "We now go over some basic mathematical operations used throughout the book. We will then move onto the basic of strings. Below are some of the important operators in Python for numbers. "
   ]
  },
  {
   "cell_type": "code",
   "execution_count": 1,
   "metadata": {
    "collapsed": false
   },
   "outputs": [
    {
     "name": "stdout",
     "output_type": "stream",
     "text": [
      "8\n",
      "6\n",
      "2\n"
     ]
    }
   ],
   "source": [
    "print(2**3) # exponent\n",
    "print(22%8) # modulus (remainder)\n",
    "print(22//8) # integer division (floored quotient)"
   ]
  },
  {
   "cell_type": "markdown",
   "metadata": {},
   "source": [
    "Concatenating strings is done with the plus sign (\"+\"). Sometimes we can also use the multiplication sign to repeat a string. "
   ]
  },
  {
   "cell_type": "code",
   "execution_count": 2,
   "metadata": {
    "collapsed": false
   },
   "outputs": [
    {
     "name": "stdout",
     "output_type": "stream",
     "text": [
      "Alice Bob\n",
      "Alice! Alice! Alice! \n"
     ]
    }
   ],
   "source": [
    "print('Alice'+' '+'Bob')\n",
    "print('Alice! '*3) # repeating the string 3 times"
   ]
  },
  {
   "cell_type": "markdown",
   "metadata": {},
   "source": [
    "Variable names in Python has to abide by certain rules. According to the book, the most notable rules for variable names include the following:\n",
    "\n",
    "1. It can be only one word.\n",
    "2. It can use only letters, numbers, and the underscore (_) character.\n",
    "3. It can’t begin with a number.\n"
   ]
  },
  {
   "cell_type": "markdown",
   "metadata": {},
   "source": [
    "We now give a brief introduction about Python and the Jupyter notebook. To start with, the IPython console is most convenient when you have a command-line-based workflow and you want to execute some quick Python commands, while the Jupyter notebook is more like an editor for Python. It's very useful for learning Python in general and data science projects but not convenient for software engineering tasks. "
   ]
  },
  {
   "cell_type": "markdown",
   "metadata": {},
   "source": [
    "Here are some jargon for the Jupyter notebook and Python. A notebook is an interactive document containing code, text, and other elements. A notebook is saved in a file with the \".ipynb\" extension. This file is a plain text file storing a JSON data structure. A kernel is a process running an interactive session. When using IPython, this kernel is a Python process. There are kernels in many languages other than Python. In general, no more than one Notebook interface can be connected to a given kernel. However, several IPython consoles can be connected to a given kernel."
   ]
  },
  {
   "cell_type": "markdown",
   "metadata": {},
   "source": [
    "Lastly, we cover a special topic related to string escaping in this current lecture, which is often used in automation projects. The point of string escaping is to mask special characters and make special formats with strings. To begin with, string literals can be enclosed in matching single quotes (') or double quotes (\"). They can also be enclosed in matching groups of three single or double quotes (these are generally referred to as triple-quoted strings). The backslash character \"\\\" is used to escape characters that otherwise have a special meaning, such as newline, backslash itself, or the quote character. String literals may optionally be prefixed with a letter 'r' or 'R'; such strings are called raw strings and use different rules for backslash escape sequences. "
   ]
  },
  {
   "cell_type": "code",
   "execution_count": 3,
   "metadata": {
    "collapsed": false
   },
   "outputs": [
    {
     "name": "stdout",
     "output_type": "stream",
     "text": [
      "I am 6'2\" tall.\n",
      "I am 6'2\" tall.\n"
     ]
    }
   ],
   "source": [
    "print(\"I am 6'2\\\" tall.\")  # escape double-quote inside string\n",
    "print('I am 6\\'2\" tall.')  # escape single-quote inside string"
   ]
  },
  {
   "cell_type": "markdown",
   "metadata": {},
   "source": [
    "If you want to specify a two-line string, you may use a triple-quoted string. This is not recommended because it could be confusing. An alternative way is to use an escape sequence for the newline character \"\\n\" to indicate the start of a new line. Below is an example: "
   ]
  },
  {
   "cell_type": "code",
   "execution_count": 4,
   "metadata": {
    "collapsed": false
   },
   "outputs": [
    {
     "name": "stdout",
     "output_type": "stream",
     "text": [
      "This is the first line. \n",
      "This is the second line.\n"
     ]
    }
   ],
   "source": [
    "string1='This is the first line. \\nThis is the second line.'\n",
    "print(string1)"
   ]
  },
  {
   "cell_type": "markdown",
   "metadata": {},
   "source": [
    "Similar to the \"\\n\" notation, the \"\\t\" is often used to pad blank space in one line (in between two strings usually). Below is an example."
   ]
  },
  {
   "cell_type": "code",
   "execution_count": 5,
   "metadata": {
    "collapsed": false
   },
   "outputs": [
    {
     "name": "stdout",
     "output_type": "stream",
     "text": [
      "You failed the exam! \tReally?\n"
     ]
    }
   ],
   "source": [
    "string2='You failed the exam! \\tReally?'\n",
    "print(string2) # notice the blank space in between"
   ]
  },
  {
   "cell_type": "markdown",
   "metadata": {},
   "source": [
    "On the other hand, if you need to specify some strings where no special processing such as escape sequences are handled, then what you need is a raw string by prefixing 'r'. Below is an example. You will see that by putting the letter 'r' in front, Python sees other escape characters such as '\\n' as the actual text strings (so Python won't execute it by getting a new line in this case). "
   ]
  },
  {
   "cell_type": "code",
   "execution_count": 6,
   "metadata": {
    "collapsed": false
   },
   "outputs": [
    {
     "name": "stdout",
     "output_type": "stream",
     "text": [
      "In Python, new lines are indicated by '\\n'\n"
     ]
    }
   ],
   "source": [
    "string3=r\"In Python, new lines are indicated by '\\n'\"\n",
    "print(string3)"
   ]
  },
  {
   "cell_type": "markdown",
   "metadata": {
    "collapsed": true
   },
   "source": [
    "Just like R, Python has many built in libraries 9called modules) that contain a rich source of Python functions and user-built Python objects. To call certain libraries, all we need is the import function:"
   ]
  },
  {
   "cell_type": "code",
   "execution_count": 6,
   "metadata": {
    "collapsed": false
   },
   "outputs": [],
   "source": [
    "import csv\n",
    "import scipy "
   ]
  },
  {
   "cell_type": "code",
   "execution_count": null,
   "metadata": {
    "collapsed": true
   },
   "outputs": [],
   "source": []
  }
 ],
 "metadata": {
  "kernelspec": {
   "display_name": "Python 3",
   "language": "python",
   "name": "python3"
  },
  "language_info": {
   "codemirror_mode": {
    "name": "ipython",
    "version": 3
   },
   "file_extension": ".py",
   "mimetype": "text/x-python",
   "name": "python",
   "nbconvert_exporter": "python",
   "pygments_lexer": "ipython3",
   "version": "3.6.0"
  }
 },
 "nbformat": 4,
 "nbformat_minor": 2
}
