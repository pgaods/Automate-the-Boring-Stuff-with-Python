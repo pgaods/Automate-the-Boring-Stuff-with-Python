{
 "cells": [
  {
   "cell_type": "markdown",
   "metadata": {},
   "source": [
    "We will be studying regular expressions in this lecture. \n",
    "\n",
    "As a motivating example, you may be familiar with searching for texts by pressing CTRL-F and typing in the words you’re looking for. Regular expressions go one step further: They allow you to specify a pattern of text to search for. You may not know a business’s exact phone number, but if you live in the United States or Canada, you know it will be three digits, followed by a hyphen, and then four more digits (and optionally, a three-digit area code at the start). This is how you, as a human, know a phone number when you see it: 415-555-1234 is a phone number, but 4,155,551,234 is not.\n",
    "\n",
    "Regular expressions are helpful, but not many non-programmers know about them even though most modern text editors and word processors, such as Microsoft Word or OpenOffice, have find and find-and-replace features that can search based on regular expressions. Regular expressions are huge time-savers, not just for software users but also for programmers.\n",
    "\n",
    "In this chapter, we’ll learn more about what is an regular expression (a.k.a. regex) and apply them to pattern matching tasks. This chapter is very important because it lays the foundation for text mining and natural language processing. "
   ]
  },
  {
   "cell_type": "markdown",
   "metadata": {},
   "source": [
    "To start with, say we want to find a phone number in a string. You know the pattern: three numbers, a hyphen, three numbers, a hyphen, and four numbers. Here’s an example: 415-555-4242. Let’s create a function named isPhoneNumber() to check whether a string matches this pattern, returning either 'True' or 'False'. We can now use the function below to find phone number in a text string. This can be done by iteration in Python. On each iteration of the 'for' loop, a new 'chunk' of 12 characters from message is assigned to the variable 'chunk'. The loop goes through the entire string, testing each 12-character piece and printing any 'chunk' it finds that satisfies isPhoneNumber(). Once we’re done going through message, we print 'Done'. "
   ]
  },
  {
   "cell_type": "code",
   "execution_count": 1,
   "metadata": {
    "collapsed": false
   },
   "outputs": [
    {
     "name": "stdout",
     "output_type": "stream",
     "text": [
      "True\n",
      "False\n",
      "\n",
      "Phone number found: 415-555-1011\n",
      "Phone number found: 415-555-9999\n",
      "Done\n"
     ]
    }
   ],
   "source": [
    "def isPhoneNumber(text):\n",
    "    if len(text) != 12:\n",
    "        return False\n",
    "    for i in range(0, 3):\n",
    "        if not text[i].isdecimal():\n",
    "            return False\n",
    "    if text[3] != '-':\n",
    "        return False\n",
    "    for i in range(4, 7):\n",
    "        if not text[i].isdecimal():\n",
    "            return False\n",
    "    if text[7] != '-':\n",
    "        return False\n",
    "    for i in range(8, 12):\n",
    "        if not text[i].isdecimal():\n",
    "            return False\n",
    "    return True\n",
    "print(isPhoneNumber('415-555-4242')) # True\n",
    "print(isPhoneNumber('Moshi moshi')) # False\n",
    "print(\"\")\n",
    "\n",
    "message = 'Call my cell at 415-555-1011 tomorrow, if you cannot find me, 415-555-9999 is my office.'\n",
    "for i in range(len(message)):\n",
    "    chunk = message[i:i+12]\n",
    "    if isPhoneNumber(chunk):\n",
    "        print('Phone number found: ' + chunk)\n",
    "print('Done')"
   ]
  },
  {
   "cell_type": "markdown",
   "metadata": {},
   "source": [
    "The previous phone number–finding program works fine, but it uses a lot of code to do something limited: the function  isPhoneNumber() is 17 lines but can find only one pattern of phone numbers. What about a phone number formatted like 415.555.4242 or (415) 555-4242? What if the phone number had an extension, like 415-555-4242 x99? The isPhoneNumber() function would fail to validate them. You could add yet more code for these additional patterns, but there is an easier way.\n",
    "\n",
    "Regular expressions, called 'regexes' for short, are descriptions for a pattern of text. For example, a \\d in a regex stands for a digit character — that is, any single numeral 0 to 9. The regex \\d\\d\\d-\\d\\d\\d-\\d\\d\\d\\d is used by Python to match the same text the previous isPhoneNumber() function did: a string of three numbers, a hyphen, three more\n",
    "numbers, another hyphen, and four numbers. Any other string would not match the \\d\\d\\d-\\d\\d\\d-\\d\\d\\d\\d regex. Moreoever, regular expressions can be much more sophisticated. For example, adding a 3 in curly brackets {3} after a pattern is like saying, \"Match this pattern three times.\" So the slightly shorter regex \\d{3}-\\d{3}-\\d{4} also matches the correct phone number format. In all, the benefit of using regular expressions is enormous, and it can handle a large amount of data in different forms. \n",
    "\n",
    "We now need to learn how to create regexes in Python. Most of the regex functions in Python are in the 're' module. Passing a string value representing your regular expression to re.compile() returns a regex pattern object (or simply, a regex object). There are many methods associated with a regex object. For example, a regex object’s search() method searches the string it is passed for any matches to the regex. The search() method will return 'None' if the regex pattern is not found in the string. However, if the pattern is found, the search() method returns a 'Match' object. This 'Match' object, just like other objects in Python, have many associated methods with it. For example, the 'Match' objects have a group() method that will return the actual matched text from the searched string. "
   ]
  },
  {
   "cell_type": "code",
   "execution_count": 2,
   "metadata": {
    "collapsed": false
   },
   "outputs": [
    {
     "name": "stdout",
     "output_type": "stream",
     "text": [
      "<_sre.SRE_Match object; span=(16, 28), match='415-755-1011'>\n",
      "Phone number found: 415-755-1011\n"
     ]
    }
   ],
   "source": [
    "import re\n",
    "phoneNumRegex = re.compile(r'\\d\\d\\d-\\d\\d\\d-\\d\\d\\d\\d') # creating a regex object that matches the phone number pattern\n",
    "regex_object = phoneNumRegex.search('Call my cell at 415-755-1011 tomorrow')\n",
    "print(regex_object)\n",
    "print('Phone number found: ' + regex_object.group())"
   ]
  },
  {
   "cell_type": "markdown",
   "metadata": {},
   "source": [
    "Remember that escape characters in Python use the backslash sign '\\'. The string value '\\n' represents a single newline\n",
    "character, not a backslash followed by a lowercase n. You need to enter the escape character '\\' to print a single\n",
    "backslash. So '\\\\n' is the string that represents a backslash followed by a lowercase n. However, by putting an 'r'\n",
    "before the first quote of the string value, you can mark the string as a raw string, which does not escape characters.\n",
    "Since regular expressions frequently use backslashes in them, it is convenient to pass raw strings to the re.compile()\n",
    "function instead of typing extra backslashes. "
   ]
  },
  {
   "cell_type": "markdown",
   "metadata": {},
   "source": [
    "The search() method, as demonstrated above, is very useful for many scenarios. However, if you would like to find all phone numbers in a given string and iteratively display them, you will need to invoke the findall() method. The output of the findall() method is a list. "
   ]
  },
  {
   "cell_type": "code",
   "execution_count": 3,
   "metadata": {
    "collapsed": false
   },
   "outputs": [
    {
     "name": "stdout",
     "output_type": "stream",
     "text": [
      "['415-755-1011', '310-506-7320', '310-472-2342']\n",
      "<class 'list'>\n",
      "Phone number found: 415-755-1011\n",
      "Phone number found: 310-506-7320\n",
      "Phone number found: 310-472-2342\n"
     ]
    }
   ],
   "source": [
    "phoneNumRegex = re.compile(r'\\d\\d\\d-\\d\\d\\d-\\d\\d\\d\\d') # creating a regex object that matches the phone number pattern\n",
    "regex_object = phoneNumRegex.findall(\"Call me at 415-755-1011 tmr or 310-506-7320, and don't use 310-472-2342\")\n",
    "print(regex_object) \n",
    "print(type(regex_object)) # this is a list\n",
    "\n",
    "for i in range(len(regex_object)):\n",
    "    phonenum=regex_object[i]\n",
    "    print('Phone number found: ' + phonenum)"
   ]
  },
  {
   "cell_type": "markdown",
   "metadata": {},
   "source": [
    "Now that we have learned the basic for creating and finding regular expression objects with Python, we may try to explore some more powerful pattern-matching capabilities. Suppose we want to separate the area code from the rest of the phone number. Adding parentheses will create groups in the regex: (\\d\\d\\d)-(\\d\\d\\d-\\d\\d\\d\\d). Then you can use the group() 'match' object method to grab the matching text from just one group. The first set of parentheses in a regex string will be group 1. The second set will be group 2, etc.. By passing the integer 1 or 2 to the group() 'match' object method, you can grab different parts of the matched text. Passing 0 or nothing to the group() method will return\n",
    "the entire matched text. If you would like to retrieve all the groups at once, use the groups() method (plural). However, the result of the groups() method (plural) would be a tuple. "
   ]
  },
  {
   "cell_type": "code",
   "execution_count": 4,
   "metadata": {
    "collapsed": false
   },
   "outputs": [
    {
     "name": "stdout",
     "output_type": "stream",
     "text": [
      "area code: 415\n",
      "body of phone number: 555-4242\n",
      "full number: 415-555-4242\n",
      "full number (another way): 415-555-4242\n",
      "('415', '555-4242')\n"
     ]
    }
   ],
   "source": [
    "phoneNumRegex = re.compile(r'(\\d\\d\\d)-(\\d\\d\\d-\\d\\d\\d\\d)')\n",
    "mo = phoneNumRegex.search('My number is 415-555-4242.')\n",
    "print('area code: '+ mo.group(1))\n",
    "print('body of phone number: ' + mo.group(2))\n",
    "print('full number: ' + mo.group(0))\n",
    "print('full number (another way): ' + mo.group())\n",
    "print(mo.groups()) # this is a tuple"
   ]
  },
  {
   "cell_type": "markdown",
   "metadata": {},
   "source": [
    "Parentheses always have a special meaning in regular expressions, but what do you do if you need to match a parenthesis in your text? For instance, maybe the phone numbers you are trying to match have the area code set in parentheses. In this case, you need to escape the left and right parentheses characters with a backslash preceding the parenthesis."
   ]
  },
  {
   "cell_type": "code",
   "execution_count": 5,
   "metadata": {
    "collapsed": false
   },
   "outputs": [
    {
     "name": "stdout",
     "output_type": "stream",
     "text": [
      "(415)\n",
      "555-4242\n"
     ]
    }
   ],
   "source": [
    "phoneNumRegex = re.compile(r'(\\(\\d\\d\\d\\))(\\d\\d\\d-\\d\\d\\d\\d)')\n",
    "mo2 = phoneNumRegex.search('My phone number is (415)555-4242.')\n",
    "print(mo2.group(1))\n",
    "print(mo2.group(2))"
   ]
  },
  {
   "cell_type": "markdown",
   "metadata": {},
   "source": [
    "We now learn how to use pipe \"|\" to match one of many expressions. You can think of the pipe operator as an 'or' in logic. For example, the regular expression r'Batman|Tina Fey' will match either 'Batman' or 'Tina Fey'. When both Batman and Tina Fey occur in the searched string, the first occurrence of matching text will be returned as the 'Match' object. Below is an example:"
   ]
  },
  {
   "cell_type": "code",
   "execution_count": 6,
   "metadata": {
    "collapsed": false
   },
   "outputs": [
    {
     "name": "stdout",
     "output_type": "stream",
     "text": [
      "Batman\n",
      "Tina Fey\n",
      "['Batman', 'Tina Fey']\n"
     ]
    }
   ],
   "source": [
    "heroRegex = re.compile(r'Batman|Tina Fey')\n",
    "mo1 = heroRegex.search('Batman and Tina Fey.')\n",
    "print(mo1.group())\n",
    "mo2 = heroRegex.search('Tina Fey and Batman.')\n",
    "print(mo2.group())\n",
    "mo3 = heroRegex.findall('Batman and Tina Fey.')\n",
    "print(mo3)"
   ]
  },
  {
   "cell_type": "markdown",
   "metadata": {},
   "source": [
    "In the pipe can be roughly considered as an 'or' logic, we can extend its use beyond what is shown in the previous example. For example, we can also use the pipe to match one of several patterns as part of your regex. Suppose we want to match any of the strings 'Batman', 'Batmobile', 'Batcopter', and 'Batbat'. Since all these strings start with the prefix 'Bat', it would be nice if we could specify that prefix only once. This can be done with parentheses. By using the pipe character and grouping parentheses, you can specify several alternative patterns we would like our regex to match.\n",
    "\n",
    "If we need to match an actual pipe character, we can escape it with a backslash.\n",
    "\n",
    "Below is an example of using the pipe and parentheses combination:"
   ]
  },
  {
   "cell_type": "code",
   "execution_count": 7,
   "metadata": {
    "collapsed": false
   },
   "outputs": [
    {
     "name": "stdout",
     "output_type": "stream",
     "text": [
      "Batmobile\n",
      "mobile\n"
     ]
    }
   ],
   "source": [
    "batRegex = re.compile(r'Bat(man|mobile|copter|bat)')\n",
    "mo3 = batRegex.search('Batmobile lost a wheel')\n",
    "print(mo3.group())\n",
    "print(mo3.group(1)) # mobile"
   ]
  },
  {
   "cell_type": "markdown",
   "metadata": {
    "collapsed": true
   },
   "source": [
    "Sometimes there is a pattern that we want to match only optionally. That is, the regex should find a match whether or not that bit of text is there. To deal with this type of problems, the question mark \"?\" character flags the group that precedes it as an optional part of the pattern. Below is an example:"
   ]
  },
  {
   "cell_type": "code",
   "execution_count": 8,
   "metadata": {
    "collapsed": false
   },
   "outputs": [
    {
     "name": "stdout",
     "output_type": "stream",
     "text": [
      "Batman\n",
      "Batwoman\n",
      "wo\n"
     ]
    }
   ],
   "source": [
    "batRegex = re.compile(r'Bat(wo)?man')\n",
    "mo1 = batRegex.search('The Adventures of Batman')\n",
    "print(mo1.group()) # the '(wo)?' part of the regular expression means that the pattern wo is an optional group\n",
    "mo2 = batRegex.search('The Adventures of Batwoman')\n",
    "print(mo2.group())\n",
    "print(mo2.group(1)) # wo"
   ]
  },
  {
   "cell_type": "markdown",
   "metadata": {},
   "source": [
    "Here comes more tricks. The star (or asterisk) sign for regex means \"match zero or more\" — the group that precedes the star can occur any number of times in the text. It can be completely absent or repeated over and over again. \n",
    "\n",
    "Again, if we need to match an actual star character, we can prefix the star in the regular expression with a backslash as usual."
   ]
  },
  {
   "cell_type": "code",
   "execution_count": 9,
   "metadata": {
    "collapsed": false
   },
   "outputs": [
    {
     "name": "stdout",
     "output_type": "stream",
     "text": [
      "Batman\n",
      "Batwoman\n",
      "Batwowowowoman\n",
      "wo\n"
     ]
    }
   ],
   "source": [
    "batRegex = re.compile(r'Bat(wo)*man')\n",
    "mo1 = batRegex.search('The Adventures of Batman')\n",
    "print(mo1.group())\n",
    "mo2 = batRegex.search('The Adventures of Batwoman')\n",
    "print(mo2.group())\n",
    "mo3 = batRegex.search('The Adventures of Batwowowowoman')\n",
    "print(mo3.group())\n",
    "print(mo3.group(1)) # wo"
   ]
  },
  {
   "cell_type": "markdown",
   "metadata": {},
   "source": [
    "While the star/asterisk sign * means \"match zero or more\", the plus sign + means \"match one or more\". Unlike the star, which does not require its group to appear in the matched string, the group preceding a plus must appear at least once. It is not optional. Below is an example. The regex Bat(wo)+man will not match the string 'The Adventures of Batman' because at least one 'wo' is required by the plus sign.\n",
    "\n",
    "If we need to match an actual plus sign character, again, we can prefix the plus sign with a backslash to escape it."
   ]
  },
  {
   "cell_type": "code",
   "execution_count": 10,
   "metadata": {
    "collapsed": false
   },
   "outputs": [
    {
     "name": "stdout",
     "output_type": "stream",
     "text": [
      "Batwoman\n",
      "Batwowowowoman\n",
      "True\n"
     ]
    }
   ],
   "source": [
    "batRegex = re.compile(r'Bat(wo)+man')\n",
    "mo1 = batRegex.search('The Adventures of Batwoman')\n",
    "print(mo1.group())\n",
    "mo2 = batRegex.search('The Adventures of Batwowowowoman')\n",
    "print(mo2.group())\n",
    "mo3 = batRegex.search('The Adventures of Batman')\n",
    "print(mo3==None)"
   ]
  },
  {
   "cell_type": "markdown",
   "metadata": {},
   "source": [
    "Let's move on for another trick. If we have a group that you want to repeat a specific number of times, we can follow the group in our regex with a number in curly brackets. For example, the regex (Ha){3} will match the string 'HaHaHa', but it will not match 'HaHa', since the latter has only two repeats of the (Ha) group.\n",
    "\n",
    "When it comes to curly brackets, there is another trick: instead of one number, we can specify a range by writing a minimum, a comma, and a maximum in between the curly brackets. For example, the regex (Ha){3,5} will match 'HaHaHa', 'HaHaHaHa', and 'HaHaHaHaHa'. While doing this type of tricks, we can also leave out the first or second number in the curly brackets to leave the minimum or maximum unbounded. For example, (Ha){3,} will match three or more instances of the (Ha) group, while (Ha){,5} will match zero to five instances. \n",
    "\n",
    "In general, curly brackets can help make our regular expressions shorter. For example, these two regular expressions match identical patterns:(Ha){3}, (Ha)(Ha)(Ha). As another example, these two also match identical patterns: (Ha){3,5}, and ((Ha)(Ha)(Ha))|((Ha)(Ha)(Ha)(Ha))|((Ha)(Ha)(Ha)(Ha)(Ha))."
   ]
  },
  {
   "cell_type": "code",
   "execution_count": 11,
   "metadata": {
    "collapsed": false
   },
   "outputs": [
    {
     "name": "stdout",
     "output_type": "stream",
     "text": [
      "HaHaHa\n",
      "None\n"
     ]
    }
   ],
   "source": [
    "haRegex = re.compile(r'(Ha){3}')\n",
    "mo1 = haRegex.search('HaHaHaHaHaHa')\n",
    "print(mo1.group()) # HaHaHa\n",
    "mo2 = haRegex.search('Ha')\n",
    "print(mo2) # None"
   ]
  },
  {
   "cell_type": "markdown",
   "metadata": {
    "collapsed": true
   },
   "source": [
    "We have seen different ways of expressing digits and characters. Now we need to expand our knowledge by introducing character classes, which can help us generalize the problem of finding phone numbers to all types of character matching problems. In the earlier phone number regex example, we learned that '\\d' could stand for any numeric digit. That is, '\\d' is shorthand for the regular expression (0|1|2|3|4|5|6|7|8|9). There are many such shorthand character classes in fact. Below is a summary table for the main notations we usually use:\n",
    "\n",
    "  1. '\\d':    Any numeric digit from 0 to 9.\n",
    "  2. '\\D':    Any character that is not a numeric digit from 0 to 9.\n",
    "  3. '\\w':    Any letter, numeric digit, or the underscore character (think of this as matching “word” characters).\n",
    "  4. '\\W':    Any character that is not a letter, numeric digit, or the underscore character.\n",
    "  5. '\\s':    Any space, tab, or newline character (think of this as matching “space” characters).\n",
    "  6. '\\S':    Any character that is not a space, tab, or newline.\n",
    "\n",
    "Character classes are nice for shortening regular expressions. The character class [0-5] will match only the numbers 0 to 5; this is much shorter than typing (0|1|2|3|4|5)."
   ]
  },
  {
   "cell_type": "code",
   "execution_count": 12,
   "metadata": {
    "collapsed": false
   },
   "outputs": [
    {
     "data": {
      "text/plain": [
       "['12 drummers',\n",
       " '11 pipers',\n",
       " '10 lords',\n",
       " '9 ladies',\n",
       " '8 maids',\n",
       " '7 swans',\n",
       " '6 geese',\n",
       " '5 rings',\n",
       " '4 birds',\n",
       " '3 hens']"
      ]
     },
     "execution_count": 12,
     "metadata": {},
     "output_type": "execute_result"
    }
   ],
   "source": [
    "xmasRegex = re.compile(r'\\d+\\s\\w+')\n",
    "xmasRegex.findall('12 drummers, 11 pipers, 10 lords, 9 ladies, 8 maids, 7 swans, 6 geese, 5 rings, 4 birds, 3 hens')"
   ]
  },
  {
   "cell_type": "markdown",
   "metadata": {},
   "source": [
    "You can also create your own character classes. There are times when you want to match a set of characters but the shorthand character classes ('\\d', '\\w', '\\s', and so on) are too broad. When faced with this type of problems, you can define your own character class using square brackets. For example, the character class [aeiouAEIOU] will match any vowel, both lowercase and uppercase."
   ]
  },
  {
   "cell_type": "code",
   "execution_count": 13,
   "metadata": {
    "collapsed": false
   },
   "outputs": [
    {
     "data": {
      "text/plain": [
       "['o', 'o', 'o', 'e', 'a', 'u', 'i']"
      ]
     },
     "execution_count": 13,
     "metadata": {},
     "output_type": "execute_result"
    }
   ],
   "source": [
    "vowelRegex = re.compile(r'[aeiouAEIOU]')\n",
    "vowelRegex.findall('RoboCop eats pumpkins')"
   ]
  },
  {
   "cell_type": "markdown",
   "metadata": {},
   "source": [
    "You can also include ranges of letters or numbers by using a hyphen. For example, the character class [a-zA-Z0-9] will match all lowercase letters, uppercase letters, and numbers. "
   ]
  },
  {
   "cell_type": "markdown",
   "metadata": {
    "collapsed": true
   },
   "source": [
    "Now let's introduce another important notation, called the caret sign \"^\". By placing a caret character \"^\" just after the character class’s opening bracket, you can make a negative character class. A negative character class will match all the characters that are not in the character class. For example:"
   ]
  },
  {
   "cell_type": "code",
   "execution_count": 14,
   "metadata": {
    "collapsed": false
   },
   "outputs": [
    {
     "data": {
      "text/plain": [
       "[' ',\n",
       " 'w',\n",
       " 'n',\n",
       " 'd',\n",
       " 'r',\n",
       " 'd',\n",
       " ' ',\n",
       " 'l',\n",
       " 'n',\n",
       " 'l',\n",
       " 'y',\n",
       " ' ',\n",
       " 's',\n",
       " ' ',\n",
       " ' ',\n",
       " 'c',\n",
       " 'l',\n",
       " 'd',\n",
       " '.']"
      ]
     },
     "execution_count": 14,
     "metadata": {},
     "output_type": "execute_result"
    }
   ],
   "source": [
    "poemRegex = re.compile(r'[^aeiouAEIOU]')\n",
    "poemRegex.findall('I wandered lonely as a cloud.') # notice that the blank space ' ' also exists in the list"
   ]
  },
  {
   "cell_type": "markdown",
   "metadata": {},
   "source": [
    "Speaking of the caret sign '^', you can also use the caret symbol at the start of a regex to indicate that a match must occur at the beginning of the searched text. Likewise, you can put a dollar sign at the end of the regex to indicate the string must end with this regex pattern. And you can use the '^' and '$' together to indicate that the entire string must match the regex—that is, it’s not enough for a match to be made on some subset of the string.\n",
    "\n",
    "For example, the r'^Hello' regular expression string matches strings that begin with 'Hello'. For another example, the r'\\d$' regular expression string matches strings that end with a numeric character from 0 to 9. Similarly, if you put a plus sign between 'd' and the dollar sign, the program will match strings that both begin and end with one or more numeric characters."
   ]
  },
  {
   "cell_type": "code",
   "execution_count": 15,
   "metadata": {
    "collapsed": false
   },
   "outputs": [
    {
     "name": "stdout",
     "output_type": "stream",
     "text": [
      "['Hello']\n",
      "[]\n"
     ]
    }
   ],
   "source": [
    "beginsWithHello = re.compile(r'^Hello')\n",
    "print(beginsWithHello.findall('Hello world!'))\n",
    "print(beginsWithHello.findall('He said Hello'))"
   ]
  },
  {
   "cell_type": "code",
   "execution_count": 16,
   "metadata": {
    "collapsed": false
   },
   "outputs": [
    {
     "name": "stdout",
     "output_type": "stream",
     "text": [
      "['2']\n",
      "[]\n"
     ]
    }
   ],
   "source": [
    "endsWithNumber = re.compile(r'\\d$')\n",
    "print(endsWithNumber.findall('Your number is 42'))\n",
    "print(endsWithNumber.findall('Your number is forty two.'))"
   ]
  },
  {
   "cell_type": "code",
   "execution_count": 17,
   "metadata": {
    "collapsed": false
   },
   "outputs": [
    {
     "name": "stdout",
     "output_type": "stream",
     "text": [
      "['1234567890']\n",
      "[]\n",
      "[]\n"
     ]
    }
   ],
   "source": [
    "wholeStringIsNum = re.compile(r'^\\d+$')\n",
    "print(wholeStringIsNum.findall('1234567890'))\n",
    "print(wholeStringIsNum.findall('12345xyz67890'))\n",
    "print(wholeStringIsNum.findall('12 34567890'))"
   ]
  },
  {
   "cell_type": "markdown",
   "metadata": {},
   "source": [
    "Moving on to a new topic, we now need to study wild cards. In SAS, the asterisk/star sign \"*\" is used to denote wild card. In contrast, Python employs the dot/period sign to denote wild card. Below is an example:"
   ]
  },
  {
   "cell_type": "code",
   "execution_count": 18,
   "metadata": {
    "collapsed": false
   },
   "outputs": [
    {
     "data": {
      "text/plain": [
       "['cat', 'hat', 'sat', 'lat', 'mat']"
      ]
     },
     "execution_count": 18,
     "metadata": {},
     "output_type": "execute_result"
    }
   ],
   "source": [
    "atRegex = re.compile(r'.at')\n",
    "atRegex.findall('The cat in the hat sat on the flat mat.')"
   ]
  },
  {
   "cell_type": "markdown",
   "metadata": {},
   "source": [
    "Sometimes you will want to match everything and anything. For example, say you want to match the string 'First Name:', followed by any and all text, followed by 'Last Name:', and then followed by anything again. You can use the dot-star combination (.*) consecutively to stand in for that \"anything\". Remember that the dot character means \"any single character except the newline\" and the star character means \"zero or more of the preceding character\". It is also important note that the dot-star will match everything except a newline. By passing re.DOTALL as the second argument to re.compile(), you can make the dot character match all characters, including the newline character.\n",
    "\n",
    "Below are two examples of using the dot-star wild card:"
   ]
  },
  {
   "cell_type": "code",
   "execution_count": 19,
   "metadata": {
    "collapsed": false,
    "scrolled": true
   },
   "outputs": [
    {
     "name": "stdout",
     "output_type": "stream",
     "text": [
      "Firstname:  Al\n",
      "Lastname:  Sweigart\n",
      "\n",
      "\n",
      "Serve the public trust.\n",
      "\n",
      "\n",
      "Serve the public trust.\n",
      "Protect the innocent.\n",
      "Uphold the law.\n"
     ]
    }
   ],
   "source": [
    "nameRegex = re.compile(r'First Name: (.*) Last Name: (.*)')\n",
    "mo = nameRegex.search('First Name: Al Last Name: Sweigart')\n",
    "print('Firstname: ', mo.group(1))\n",
    "print('Lastname: ', mo.group(2))\n",
    "print('\\n')\n",
    "\n",
    "noNewlineRegex1 = re.compile('.*')\n",
    "print(noNewlineRegex1.search('Serve the public trust.\\nProtect the innocent.\\nUphold the law.').group())\n",
    "print('\\n')\n",
    "newlineRegex2 = re.compile('.*', re.DOTALL)\n",
    "print(newlineRegex2.search('Serve the public trust.\\nProtect the innocent.\\nUphold the law.').group())"
   ]
  },
  {
   "cell_type": "markdown",
   "metadata": {},
   "source": [
    "Normally, regular expressions match text with the exact casing you specify. But sometimes you care only about matching the letters without worrying whether they’re uppercase or lowercase. To make your regex case-insensitive, you can pass re.IGNORECASE or re.I as a second argument to re.compile(). Below is an example:\n"
   ]
  },
  {
   "cell_type": "code",
   "execution_count": 20,
   "metadata": {
    "collapsed": false
   },
   "outputs": [
    {
     "name": "stdout",
     "output_type": "stream",
     "text": [
      "RoboCop\n",
      "ROBOCOP\n",
      "robocop\n"
     ]
    }
   ],
   "source": [
    "robocop = re.compile(r'robocop', re.I)\n",
    "print(robocop.search('RoboCop is part man, part machine, all cop.').group())\n",
    "print(robocop.search('ROBOCOP protects the innocent.').group())\n",
    "print(robocop.search('Al, why does your programming book talk about robocop so much?').group())"
   ]
  },
  {
   "cell_type": "markdown",
   "metadata": {},
   "source": [
    "Regular expressions can not only find text patterns but can also substitute new text in place of those patterns. The sub() method for Regex objects is passed two arguments. The first argument is a string to replace any matches. The second is the string for the regular expression. The sub() method returns a string with the substitutions applied."
   ]
  },
  {
   "cell_type": "code",
   "execution_count": 21,
   "metadata": {
    "collapsed": false
   },
   "outputs": [
    {
     "data": {
      "text/plain": [
       "'CENSORED gave the secret documents to CENSORED.'"
      ]
     },
     "execution_count": 21,
     "metadata": {},
     "output_type": "execute_result"
    }
   ],
   "source": [
    "namesRegex = re.compile(r'Agent \\w+')\n",
    "namesRegex.sub('CENSORED', 'Agent Alice gave the secret documents to Agent Bob.')"
   ]
  },
  {
   "cell_type": "markdown",
   "metadata": {},
   "source": [
    "Sometimes you may need to use the matched text itself as part of the substitution. In the first argument to sub(), you can type \\1, \\2, \\3, and so on, to mean \"Enter the text of group 1, 2, 3, and so on, in the substitution\". For example, say you want to censor the names of the secret agents by showing just the first letters of their names. To do this, you could use the regex Agent (\\w)\\w* and pass r'\\1****' as the first argument to sub(). The \"\\1\" in that string will be replaced by whatever text was matched by group 1—that is, the (\\w) group of the regular expression."
   ]
  },
  {
   "cell_type": "code",
   "execution_count": 22,
   "metadata": {
    "collapsed": false
   },
   "outputs": [
    {
     "data": {
      "text/plain": [
       "'A**** told C**** that E**** knew B**** was a double agent.'"
      ]
     },
     "execution_count": 22,
     "metadata": {},
     "output_type": "execute_result"
    }
   ],
   "source": [
    "agentNamesRegex = re.compile(r'Agent (\\w)\\w*')\n",
    "agentNamesRegex.sub(r'\\1****', 'Agent Alice told Agent Carol that Agent Eve knew Agent Bob was a double agent.')"
   ]
  },
  {
   "cell_type": "markdown",
   "metadata": {},
   "source": [
    "There are many other functionalities within the 're' module. Being able to utilize the full capacity of the 're' module does take some time. Nevertheless, the reward is great whether you are a programmer for natural language processing or an experienced data scientist who needs to spend a lot of time taking care of strings. "
   ]
  },
  {
   "cell_type": "code",
   "execution_count": null,
   "metadata": {
    "collapsed": true
   },
   "outputs": [],
   "source": []
  }
 ],
 "metadata": {
  "kernelspec": {
   "display_name": "Python 3",
   "language": "python",
   "name": "python3"
  },
  "language_info": {
   "codemirror_mode": {
    "name": "ipython",
    "version": 3
   },
   "file_extension": ".py",
   "mimetype": "text/x-python",
   "name": "python",
   "nbconvert_exporter": "python",
   "pygments_lexer": "ipython3",
   "version": "3.6.0"
  }
 },
 "nbformat": 4,
 "nbformat_minor": 2
}
