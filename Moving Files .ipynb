{
 "cells": [
  {
   "cell_type": "markdown",
   "metadata": {},
   "source": [
    "This mini program is designed to move SAS files from one location to another automatically."
   ]
  },
  {
   "cell_type": "code",
   "execution_count": 2,
   "metadata": {},
   "outputs": [
    {
     "name": "stdout",
     "output_type": "stream",
     "text": [
      "2018 AMC QA Hospital List P1.xlsx\n",
      "coefficients.xlsx\n"
     ]
    }
   ],
   "source": [
    "import shutil\n",
    "import os\n",
    "\n",
    "source = 'W:\\\\BENCHMAR\\\\Quality_Accountability\\\\2018\\\\Completeness Evaluation\\\\output\\\\'\n",
    "dest = 'W:\\\\BENCHMAR\\\\Quality_Accountability\\\\2018\\\\Automation\\\\Annual\\\\Input Data'\n",
    "\n",
    "files = os.listdir(source)\n",
    "for j in files:\n",
    "    if j.endswith('sas7bdat'):\n",
    "        print(j)\n",
    "        shutil.move(source+j, dest)"
   ]
  },
  {
   "cell_type": "code",
   "execution_count": null,
   "metadata": {
    "collapsed": true
   },
   "outputs": [],
   "source": []
  }
 ],
 "metadata": {
  "kernelspec": {
   "display_name": "Python 3",
   "language": "python",
   "name": "python3"
  },
  "language_info": {
   "codemirror_mode": {
    "name": "ipython",
    "version": 3
   },
   "file_extension": ".py",
   "mimetype": "text/x-python",
   "name": "python",
   "nbconvert_exporter": "python",
   "pygments_lexer": "ipython3",
   "version": "3.6.3"
  }
 },
 "nbformat": 4,
 "nbformat_minor": 2
}
